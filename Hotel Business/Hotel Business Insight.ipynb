{
 "cells": [
  {
   "cell_type": "markdown",
   "id": "51f06f92",
   "metadata": {},
   "source": [
    "# HOTEL BUSINESS INSIGHT"
   ]
  },
  {
   "cell_type": "markdown",
   "id": "3d66e756",
   "metadata": {},
   "source": [
    "## Introduction\n",
    "Sangat penting bagi suatu perusahaan untuk selalu menganalisa performa bisnisnya. Pada kesempatan kali ini, kita akan lebih mendalami bisnis dalam bidang perhotelan. Fokus yang kita tuju adalah untuk mengetahui bagaimana perilaku pelanggan kita dalam melakukan pemesanan hotel, dan hubungannya terhadap tingkat pembatalan pemesanan hotel. Hasil dari insight yang kita temukan akan kita sajikan dalam bentuk data visualisasi agar lebih mudah dipahami dan bersifat lebih persuasif."
   ]
  },
  {
   "cell_type": "markdown",
   "id": "1a5c66be",
   "metadata": {},
   "source": [
    "sumber code:\n",
    "https://www.kaggle.com/code/shrutidandagi/hotel-booking-demand-eda-data-visualisation"
   ]
  },
  {
   "attachments": {},
   "cell_type": "markdown",
   "id": "9844eea4",
   "metadata": {},
   "source": [
    "## Importing Necessary Libraries and Dataset"
   ]
  },
  {
   "cell_type": "code",
   "execution_count": 1,
   "id": "fe17eebe",
   "metadata": {},
   "outputs": [
    {
     "data": {
      "text/html": [
       "        <script type=\"text/javascript\">\n",
       "        window.PlotlyConfig = {MathJaxConfig: 'local'};\n",
       "        if (window.MathJax) {MathJax.Hub.Config({SVG: {font: \"STIX-Web\"}});}\n",
       "        if (typeof require !== 'undefined') {\n",
       "        require.undef(\"plotly\");\n",
       "        requirejs.config({\n",
       "            paths: {\n",
       "                'plotly': ['https://cdn.plot.ly/plotly-2.9.0.min']\n",
       "            }\n",
       "        });\n",
       "        require(['plotly'], function(Plotly) {\n",
       "            window._Plotly = Plotly;\n",
       "        });\n",
       "        }\n",
       "        </script>\n",
       "        "
      ]
     },
     "metadata": {},
     "output_type": "display_data"
    }
   ],
   "source": [
    "import warnings\n",
    "import numpy as np\n",
    "import pandas as pd\n",
    "import seaborn as sns\n",
    "import matplotlib.pyplot as plt\n",
    "import plotly.express as px\n",
    "import plotly.graph_objects as go\n",
    "import scipy\n",
    "from scipy.stats import chi2_contingency \n",
    "from plotly.subplots import make_subplots\n",
    "from plotly.offline import init_notebook_mode\n",
    "from statistics import stdev\n",
    "from pprint import pprint\n",
    "warnings.filterwarnings(\"ignore\")\n",
    "import plotly.figure_factory as ff\n",
    "init_notebook_mode(connected=True)\n",
    "sns.set_context(\"notebook\")"
   ]
  },
  {
   "cell_type": "code",
   "execution_count": 2,
   "id": "88ad96ca",
   "metadata": {},
   "outputs": [],
   "source": [
    "df = pd.read_csv('hotel_bookings_data.csv')"
   ]
  },
  {
   "cell_type": "code",
   "execution_count": 3,
   "id": "69286110",
   "metadata": {
    "scrolled": true
   },
   "outputs": [
    {
     "data": {
      "text/html": [
       "<div>\n",
       "<style scoped>\n",
       "    .dataframe tbody tr th:only-of-type {\n",
       "        vertical-align: middle;\n",
       "    }\n",
       "\n",
       "    .dataframe tbody tr th {\n",
       "        vertical-align: top;\n",
       "    }\n",
       "\n",
       "    .dataframe thead th {\n",
       "        text-align: right;\n",
       "    }\n",
       "</style>\n",
       "<table border=\"1\" class=\"dataframe\">\n",
       "  <thead>\n",
       "    <tr style=\"text-align: right;\">\n",
       "      <th></th>\n",
       "      <th>hotel</th>\n",
       "      <th>is_canceled</th>\n",
       "      <th>lead_time</th>\n",
       "      <th>arrival_date_year</th>\n",
       "      <th>arrival_date_month</th>\n",
       "      <th>arrival_date_week_number</th>\n",
       "      <th>arrival_date_day_of_month</th>\n",
       "      <th>stays_in_weekend_nights</th>\n",
       "      <th>stays_in_weekdays_nights</th>\n",
       "      <th>adults</th>\n",
       "      <th>...</th>\n",
       "      <th>booking_changes</th>\n",
       "      <th>deposit_type</th>\n",
       "      <th>agent</th>\n",
       "      <th>company</th>\n",
       "      <th>days_in_waiting_list</th>\n",
       "      <th>customer_type</th>\n",
       "      <th>adr</th>\n",
       "      <th>required_car_parking_spaces</th>\n",
       "      <th>total_of_special_requests</th>\n",
       "      <th>reservation_status</th>\n",
       "    </tr>\n",
       "  </thead>\n",
       "  <tbody>\n",
       "    <tr>\n",
       "      <th>0</th>\n",
       "      <td>Resort Hotel</td>\n",
       "      <td>0</td>\n",
       "      <td>342</td>\n",
       "      <td>2017</td>\n",
       "      <td>September</td>\n",
       "      <td>27</td>\n",
       "      <td>1</td>\n",
       "      <td>0</td>\n",
       "      <td>0</td>\n",
       "      <td>2</td>\n",
       "      <td>...</td>\n",
       "      <td>3</td>\n",
       "      <td>No Deposit</td>\n",
       "      <td>NaN</td>\n",
       "      <td>NaN</td>\n",
       "      <td>0</td>\n",
       "      <td>Personal</td>\n",
       "      <td>0.0</td>\n",
       "      <td>0</td>\n",
       "      <td>0</td>\n",
       "      <td>Check-Out</td>\n",
       "    </tr>\n",
       "    <tr>\n",
       "      <th>1</th>\n",
       "      <td>Resort Hotel</td>\n",
       "      <td>0</td>\n",
       "      <td>737</td>\n",
       "      <td>2017</td>\n",
       "      <td>September</td>\n",
       "      <td>27</td>\n",
       "      <td>1</td>\n",
       "      <td>0</td>\n",
       "      <td>0</td>\n",
       "      <td>2</td>\n",
       "      <td>...</td>\n",
       "      <td>4</td>\n",
       "      <td>No Deposit</td>\n",
       "      <td>NaN</td>\n",
       "      <td>NaN</td>\n",
       "      <td>0</td>\n",
       "      <td>Personal</td>\n",
       "      <td>0.0</td>\n",
       "      <td>0</td>\n",
       "      <td>0</td>\n",
       "      <td>Check-Out</td>\n",
       "    </tr>\n",
       "    <tr>\n",
       "      <th>2</th>\n",
       "      <td>Resort Hotel</td>\n",
       "      <td>0</td>\n",
       "      <td>7</td>\n",
       "      <td>2017</td>\n",
       "      <td>September</td>\n",
       "      <td>27</td>\n",
       "      <td>1</td>\n",
       "      <td>0</td>\n",
       "      <td>1</td>\n",
       "      <td>1</td>\n",
       "      <td>...</td>\n",
       "      <td>0</td>\n",
       "      <td>No Deposit</td>\n",
       "      <td>NaN</td>\n",
       "      <td>NaN</td>\n",
       "      <td>0</td>\n",
       "      <td>Personal</td>\n",
       "      <td>75.0</td>\n",
       "      <td>0</td>\n",
       "      <td>0</td>\n",
       "      <td>Check-Out</td>\n",
       "    </tr>\n",
       "    <tr>\n",
       "      <th>3</th>\n",
       "      <td>Resort Hotel</td>\n",
       "      <td>0</td>\n",
       "      <td>13</td>\n",
       "      <td>2017</td>\n",
       "      <td>September</td>\n",
       "      <td>27</td>\n",
       "      <td>1</td>\n",
       "      <td>0</td>\n",
       "      <td>1</td>\n",
       "      <td>1</td>\n",
       "      <td>...</td>\n",
       "      <td>0</td>\n",
       "      <td>No Deposit</td>\n",
       "      <td>304.0</td>\n",
       "      <td>NaN</td>\n",
       "      <td>0</td>\n",
       "      <td>Personal</td>\n",
       "      <td>75.0</td>\n",
       "      <td>0</td>\n",
       "      <td>0</td>\n",
       "      <td>Check-Out</td>\n",
       "    </tr>\n",
       "    <tr>\n",
       "      <th>4</th>\n",
       "      <td>Resort Hotel</td>\n",
       "      <td>0</td>\n",
       "      <td>14</td>\n",
       "      <td>2017</td>\n",
       "      <td>September</td>\n",
       "      <td>27</td>\n",
       "      <td>1</td>\n",
       "      <td>0</td>\n",
       "      <td>2</td>\n",
       "      <td>2</td>\n",
       "      <td>...</td>\n",
       "      <td>0</td>\n",
       "      <td>No Deposit</td>\n",
       "      <td>240.0</td>\n",
       "      <td>NaN</td>\n",
       "      <td>0</td>\n",
       "      <td>Personal</td>\n",
       "      <td>98.0</td>\n",
       "      <td>0</td>\n",
       "      <td>1</td>\n",
       "      <td>Check-Out</td>\n",
       "    </tr>\n",
       "  </tbody>\n",
       "</table>\n",
       "<p>5 rows × 29 columns</p>\n",
       "</div>"
      ],
      "text/plain": [
       "          hotel  is_canceled  lead_time  arrival_date_year arrival_date_month  \\\n",
       "0  Resort Hotel            0        342               2017          September   \n",
       "1  Resort Hotel            0        737               2017          September   \n",
       "2  Resort Hotel            0          7               2017          September   \n",
       "3  Resort Hotel            0         13               2017          September   \n",
       "4  Resort Hotel            0         14               2017          September   \n",
       "\n",
       "   arrival_date_week_number  arrival_date_day_of_month  \\\n",
       "0                        27                          1   \n",
       "1                        27                          1   \n",
       "2                        27                          1   \n",
       "3                        27                          1   \n",
       "4                        27                          1   \n",
       "\n",
       "   stays_in_weekend_nights  stays_in_weekdays_nights  adults  ...  \\\n",
       "0                        0                         0       2  ...   \n",
       "1                        0                         0       2  ...   \n",
       "2                        0                         1       1  ...   \n",
       "3                        0                         1       1  ...   \n",
       "4                        0                         2       2  ...   \n",
       "\n",
       "   booking_changes  deposit_type  agent company days_in_waiting_list  \\\n",
       "0                3    No Deposit    NaN     NaN                    0   \n",
       "1                4    No Deposit    NaN     NaN                    0   \n",
       "2                0    No Deposit    NaN     NaN                    0   \n",
       "3                0    No Deposit  304.0     NaN                    0   \n",
       "4                0    No Deposit  240.0     NaN                    0   \n",
       "\n",
       "  customer_type   adr  required_car_parking_spaces  total_of_special_requests  \\\n",
       "0      Personal   0.0                            0                          0   \n",
       "1      Personal   0.0                            0                          0   \n",
       "2      Personal  75.0                            0                          0   \n",
       "3      Personal  75.0                            0                          0   \n",
       "4      Personal  98.0                            0                          1   \n",
       "\n",
       "   reservation_status  \n",
       "0           Check-Out  \n",
       "1           Check-Out  \n",
       "2           Check-Out  \n",
       "3           Check-Out  \n",
       "4           Check-Out  \n",
       "\n",
       "[5 rows x 29 columns]"
      ]
     },
     "execution_count": 3,
     "metadata": {},
     "output_type": "execute_result"
    }
   ],
   "source": [
    "df.head()"
   ]
  },
  {
   "cell_type": "markdown",
   "id": "56ce15fa",
   "metadata": {},
   "source": [
    "### Data Cleaning"
   ]
  },
  {
   "cell_type": "code",
   "execution_count": 4,
   "id": "8c339fa0",
   "metadata": {},
   "outputs": [
    {
     "name": "stdout",
     "output_type": "stream",
     "text": [
      "<class 'pandas.core.frame.DataFrame'>\n",
      "RangeIndex: 119390 entries, 0 to 119389\n",
      "Data columns (total 29 columns):\n",
      " #   Column                          Non-Null Count   Dtype  \n",
      "---  ------                          --------------   -----  \n",
      " 0   hotel                           119390 non-null  object \n",
      " 1   is_canceled                     119390 non-null  int64  \n",
      " 2   lead_time                       119390 non-null  int64  \n",
      " 3   arrival_date_year               119390 non-null  int64  \n",
      " 4   arrival_date_month              119390 non-null  object \n",
      " 5   arrival_date_week_number        119390 non-null  int64  \n",
      " 6   arrival_date_day_of_month       119390 non-null  int64  \n",
      " 7   stays_in_weekend_nights         119390 non-null  int64  \n",
      " 8   stays_in_weekdays_nights        119390 non-null  int64  \n",
      " 9   adults                          119390 non-null  int64  \n",
      " 10  children                        119386 non-null  float64\n",
      " 11  babies                          119390 non-null  int64  \n",
      " 12  meal                            119390 non-null  object \n",
      " 13  city                            118902 non-null  object \n",
      " 14  market_segment                  119390 non-null  object \n",
      " 15  distribution_channel            119390 non-null  object \n",
      " 16  is_repeated_guest               119390 non-null  int64  \n",
      " 17  previous_cancellations          119390 non-null  int64  \n",
      " 18  previous_bookings_not_canceled  119390 non-null  int64  \n",
      " 19  booking_changes                 119390 non-null  int64  \n",
      " 20  deposit_type                    119390 non-null  object \n",
      " 21  agent                           103050 non-null  float64\n",
      " 22  company                         6797 non-null    float64\n",
      " 23  days_in_waiting_list            119390 non-null  int64  \n",
      " 24  customer_type                   119390 non-null  object \n",
      " 25  adr                             119390 non-null  float64\n",
      " 26  required_car_parking_spaces     119390 non-null  int64  \n",
      " 27  total_of_special_requests       119390 non-null  int64  \n",
      " 28  reservation_status              119390 non-null  object \n",
      "dtypes: float64(4), int64(16), object(9)\n",
      "memory usage: 26.4+ MB\n"
     ]
    }
   ],
   "source": [
    "# Check Missing Value\n",
    "df.info()"
   ]
  },
  {
   "cell_type": "markdown",
   "id": "cb2aed85",
   "metadata": {},
   "source": [
    "terdapat beberapa feature yang memiliki data kosong, yaitu kolom `city`, `agent`, `company`, `children`"
   ]
  },
  {
   "cell_type": "code",
   "execution_count": 5,
   "id": "e3f0d9d5",
   "metadata": {},
   "outputs": [
    {
     "data": {
      "text/plain": [
       "hotel                                  0\n",
       "is_canceled                            0\n",
       "lead_time                              0\n",
       "arrival_date_year                      0\n",
       "arrival_date_month                     0\n",
       "arrival_date_week_number               0\n",
       "arrival_date_day_of_month              0\n",
       "stays_in_weekend_nights                0\n",
       "stays_in_weekdays_nights               0\n",
       "adults                                 0\n",
       "children                               4\n",
       "babies                                 0\n",
       "meal                                   0\n",
       "city                                 488\n",
       "market_segment                         0\n",
       "distribution_channel                   0\n",
       "is_repeated_guest                      0\n",
       "previous_cancellations                 0\n",
       "previous_bookings_not_canceled         0\n",
       "booking_changes                        0\n",
       "deposit_type                           0\n",
       "agent                              16340\n",
       "company                           112593\n",
       "days_in_waiting_list                   0\n",
       "customer_type                          0\n",
       "adr                                    0\n",
       "required_car_parking_spaces            0\n",
       "total_of_special_requests              0\n",
       "reservation_status                     0\n",
       "dtype: int64"
      ]
     },
     "execution_count": 5,
     "metadata": {},
     "output_type": "execute_result"
    }
   ],
   "source": [
    "df.isnull().sum()"
   ]
  },
  {
   "cell_type": "markdown",
   "id": "6ace6181",
   "metadata": {},
   "source": [
    "### Handling missing Value"
   ]
  },
  {
   "cell_type": "code",
   "execution_count": 6,
   "id": "2294d964",
   "metadata": {},
   "outputs": [],
   "source": [
    "# Company memiliki 94% missing value, jadi akan didrop \n",
    "df.drop(columns=['company'],inplace=True)"
   ]
  },
  {
   "cell_type": "code",
   "execution_count": 7,
   "id": "722e2534",
   "metadata": {},
   "outputs": [],
   "source": [
    "# missing value pada agent akan diisi dengan nilai 0\n",
    "df[['agent']]=df[['agent']].fillna(0)"
   ]
  },
  {
   "cell_type": "code",
   "execution_count": 8,
   "id": "8f86ae9b",
   "metadata": {},
   "outputs": [],
   "source": [
    "# missing value pada city akan diisi dengan others\n",
    "df[['city']]= df[['city']].fillna('others')"
   ]
  },
  {
   "cell_type": "code",
   "execution_count": 9,
   "id": "bff04fad",
   "metadata": {},
   "outputs": [],
   "source": [
    "# missing value children akan diisi dengan mean\n",
    "df[['children']]=df[['children']].fillna(df['children'].mean())"
   ]
  },
  {
   "cell_type": "code",
   "execution_count": 10,
   "id": "9352475a",
   "metadata": {},
   "outputs": [],
   "source": [
    "# dalam kolom meal terdapat 'undifined' yang sama artinya dengan 'SC', merubah 'undifined' menjadi 'SC'\n",
    "df['meal'].replace('Undefined','SC', inplace=True)"
   ]
  },
  {
   "cell_type": "code",
   "execution_count": 11,
   "id": "ef316459",
   "metadata": {},
   "outputs": [
    {
     "data": {
      "text/plain": [
       "Breakfast     92310\n",
       "Dinner        14463\n",
       "No Meal       10650\n",
       "SC             1169\n",
       "Full Board      798\n",
       "Name: meal, dtype: int64"
      ]
     },
     "execution_count": 11,
     "metadata": {},
     "output_type": "execute_result"
    }
   ],
   "source": [
    "df['meal'].value_counts()"
   ]
  },
  {
   "cell_type": "code",
   "execution_count": 12,
   "id": "5a1b436a",
   "metadata": {},
   "outputs": [],
   "source": [
    "# membedakan paket dengan menggunakan meal dan tidak menggunakan meal\n",
    "df['meal'] = df['meal'].replace(['Breakfast', 'Dinner', 'Full Board'], 'With_Meal')\n",
    "df['meal'] = df['meal'].replace(['SC', 'No Meal'], 'Without_meal')"
   ]
  },
  {
   "cell_type": "code",
   "execution_count": 13,
   "id": "abd9cde3",
   "metadata": {},
   "outputs": [
    {
     "data": {
      "text/plain": [
       "With_Meal       107571\n",
       "Without_meal     11819\n",
       "Name: meal, dtype: int64"
      ]
     },
     "execution_count": 13,
     "metadata": {},
     "output_type": "execute_result"
    }
   ],
   "source": [
    "df['meal'].value_counts()"
   ]
  },
  {
   "cell_type": "code",
   "execution_count": 14,
   "id": "59b21943",
   "metadata": {},
   "outputs": [
    {
     "data": {
      "text/plain": [
       "False    119210\n",
       "True        180\n",
       "dtype: int64"
      ]
     },
     "execution_count": 14,
     "metadata": {},
     "output_type": "execute_result"
    }
   ],
   "source": [
    "(df['adults']+df['children']+df['babies']==0).value_counts()"
   ]
  },
  {
   "cell_type": "code",
   "execution_count": 15,
   "id": "993dffbe",
   "metadata": {},
   "outputs": [],
   "source": [
    "# karena terdapat kolom yang memiliki 0 adults, 0 children dan 0 babies, jadi diasumsikan sebagai zero_guests dan akan didrop\n",
    "zero_guests = list(df.loc[df['adults']+df['children']+df['babies']==0].index)\n",
    "df.drop(df.index[zero_guests], inplace=True)"
   ]
  },
  {
   "cell_type": "code",
   "execution_count": 16,
   "id": "a093c129",
   "metadata": {},
   "outputs": [
    {
     "data": {
      "text/plain": [
       "(119210, 28)"
      ]
     },
     "execution_count": 16,
     "metadata": {},
     "output_type": "execute_result"
    }
   ],
   "source": [
    "df.shape"
   ]
  },
  {
   "attachments": {},
   "cell_type": "markdown",
   "id": "e33d3a95",
   "metadata": {},
   "source": [
    "### Melihat Canceled Order di setiap jenis hotel"
   ]
  },
  {
   "cell_type": "code",
   "execution_count": 17,
   "id": "650d7a73",
   "metadata": {},
   "outputs": [
    {
     "data": {
      "text/plain": [
       "0    75011\n",
       "1    44199\n",
       "Name: is_canceled, dtype: int64"
      ]
     },
     "execution_count": 17,
     "metadata": {},
     "output_type": "execute_result"
    }
   ],
   "source": [
    "df['is_canceled'].value_counts()"
   ]
  },
  {
   "cell_type": "code",
   "execution_count": 18,
   "id": "5b593eb4",
   "metadata": {},
   "outputs": [
    {
     "data": {
      "text/plain": [
       "hotel         is_canceled\n",
       "City Hotel    1              33079\n",
       "Resort Hotel  1              11120\n",
       "Name: is_canceled, dtype: int64"
      ]
     },
     "execution_count": 18,
     "metadata": {},
     "output_type": "execute_result"
    }
   ],
   "source": [
    "x= df[df.is_canceled==1]\n",
    "x=x.groupby('hotel')['is_canceled'].value_counts()\n",
    "x"
   ]
  },
  {
   "cell_type": "code",
   "execution_count": 19,
   "id": "32e72412",
   "metadata": {},
   "outputs": [
    {
     "name": "stdout",
     "output_type": "stream",
     "text": [
      "persentase Cancelled Order City Hotel 27.74851103095378 %\n",
      "persentase Cancelled Order Resort Hotel 9.328076503649022 %\n"
     ]
    }
   ],
   "source": [
    "# Persentase cancellation di tiap jenis hotel\n",
    "print('persentase Cancelled Order City Hotel' ,x['City Hotel'].sum()*100/df.shape[0],'%')\n",
    "print('persentase Cancelled Order Resort Hotel' ,x['Resort Hotel'].sum()*100/df.shape[0],'%')"
   ]
  },
  {
   "cell_type": "code",
   "execution_count": 20,
   "id": "3d0b09de",
   "metadata": {},
   "outputs": [
    {
     "ename": "AttributeError",
     "evalue": "'Text' object has no attribute 'containers'",
     "output_type": "error",
     "traceback": [
      "\u001b[1;31m---------------------------------------------------------------------------\u001b[0m",
      "\u001b[1;31mAttributeError\u001b[0m                            Traceback (most recent call last)",
      "\u001b[1;32mc:\\Users\\ASUS\\Documents\\BOOTHCAMP RAKAMIN BATCH 27\\Portfolio Project\\Hotel Business\\Hotel Business Insight.ipynb Cell 28\u001b[0m in \u001b[0;36m<cell line: 3>\u001b[1;34m()\u001b[0m\n\u001b[0;32m      <a href='vscode-notebook-cell:/c%3A/Users/ASUS/Documents/BOOTHCAMP%20RAKAMIN%20BATCH%2027/Portfolio%20Project/Hotel%20Business/Hotel%20Business%20Insight.ipynb#X36sZmlsZQ%3D%3D?line=0'>1</a>\u001b[0m plt\u001b[39m.\u001b[39mfigure(figsize\u001b[39m=\u001b[39m (\u001b[39m15\u001b[39m,\u001b[39m8\u001b[39m))\n\u001b[0;32m      <a href='vscode-notebook-cell:/c%3A/Users/ASUS/Documents/BOOTHCAMP%20RAKAMIN%20BATCH%2027/Portfolio%20Project/Hotel%20Business/Hotel%20Business%20Insight.ipynb#X36sZmlsZQ%3D%3D?line=1'>2</a>\u001b[0m ax\u001b[39m=\u001b[39msns\u001b[39m.\u001b[39mcountplot(x\u001b[39m=\u001b[39m\u001b[39m'\u001b[39m\u001b[39mhotel\u001b[39m\u001b[39m'\u001b[39m, hue\u001b[39m=\u001b[39m\u001b[39m'\u001b[39m\u001b[39mis_canceled\u001b[39m\u001b[39m'\u001b[39m, data\u001b[39m=\u001b[39mdf,palette \u001b[39m=\u001b[39m \u001b[39m'\u001b[39m\u001b[39mmagma\u001b[39m\u001b[39m'\u001b[39m)\u001b[39m.\u001b[39mset_title(\u001b[39m'\u001b[39m\u001b[39mPerbandingan Cancelled Order pada setiap jenis Hotel\u001b[39m\u001b[39m'\u001b[39m)\n\u001b[1;32m----> <a href='vscode-notebook-cell:/c%3A/Users/ASUS/Documents/BOOTHCAMP%20RAKAMIN%20BATCH%2027/Portfolio%20Project/Hotel%20Business/Hotel%20Business%20Insight.ipynb#X36sZmlsZQ%3D%3D?line=2'>3</a>\u001b[0m \u001b[39mfor\u001b[39;00m i \u001b[39min\u001b[39;00m ax\u001b[39m.\u001b[39;49mcontainers:\n\u001b[0;32m      <a href='vscode-notebook-cell:/c%3A/Users/ASUS/Documents/BOOTHCAMP%20RAKAMIN%20BATCH%2027/Portfolio%20Project/Hotel%20Business/Hotel%20Business%20Insight.ipynb#X36sZmlsZQ%3D%3D?line=3'>4</a>\u001b[0m     ax\u001b[39m.\u001b[39mbar_label(i,)\n\u001b[0;32m      <a href='vscode-notebook-cell:/c%3A/Users/ASUS/Documents/BOOTHCAMP%20RAKAMIN%20BATCH%2027/Portfolio%20Project/Hotel%20Business/Hotel%20Business%20Insight.ipynb#X36sZmlsZQ%3D%3D?line=4'>5</a>\u001b[0m sns\n",
      "\u001b[1;31mAttributeError\u001b[0m: 'Text' object has no attribute 'containers'"
     ]
    },
    {
     "data": {
      "image/png": "[encoded data removed]",
      "text/plain": [
       "<Figure size 1080x576 with 1 Axes>"
      ]
     },
     "metadata": {
      "needs_background": "light"
     },
     "output_type": "display_data"
    }
   ],
   "source": [
    "plt.figure(figsize= (15,8))\n",
    "ax=sns.countplot(x='hotel', hue='is_canceled', data=df,palette = 'magma').set_title('Perbandingan Cancelled Order pada setiap jenis Hotel')\n",
    "for i in ax.containers:\n",
    "    ax.bar_label(i,)\n",
    "sns\n"
   ]
  },
  {
   "attachments": {},
   "cell_type": "markdown",
   "id": "586cba18",
   "metadata": {},
   "source": [
    "#### Monthly Hotel Booking"
   ]
  },
  {
   "attachments": {},
   "cell_type": "markdown",
   "id": "97a02423",
   "metadata": {},
   "source": [
    "melihat jumlah hotel booking untuk setiap tipe"
   ]
  },
  {
   "cell_type": "code",
   "execution_count": 42,
   "id": "e1f9c3d4",
   "metadata": {},
   "outputs": [
    {
     "data": {
      "text/html": [
       "<div>\n",
       "<style scoped>\n",
       "    .dataframe tbody tr th:only-of-type {\n",
       "        vertical-align: middle;\n",
       "    }\n",
       "\n",
       "    .dataframe tbody tr th {\n",
       "        vertical-align: top;\n",
       "    }\n",
       "\n",
       "    .dataframe thead th {\n",
       "        text-align: right;\n",
       "    }\n",
       "</style>\n",
       "<table border=\"1\" class=\"dataframe\">\n",
       "  <thead>\n",
       "    <tr style=\"text-align: right;\">\n",
       "      <th></th>\n",
       "      <th>hotel</th>\n",
       "      <th>arrival_date_month</th>\n",
       "      <th>nunique</th>\n",
       "      <th>count</th>\n",
       "    </tr>\n",
       "  </thead>\n",
       "  <tbody>\n",
       "    <tr>\n",
       "      <th>0</th>\n",
       "      <td>City Hotel</td>\n",
       "      <td>April</td>\n",
       "      <td>2</td>\n",
       "      <td>4950</td>\n",
       "    </tr>\n",
       "    <tr>\n",
       "      <th>1</th>\n",
       "      <td>City Hotel</td>\n",
       "      <td>August</td>\n",
       "      <td>2</td>\n",
       "      <td>7885</td>\n",
       "    </tr>\n",
       "    <tr>\n",
       "      <th>2</th>\n",
       "      <td>City Hotel</td>\n",
       "      <td>December</td>\n",
       "      <td>2</td>\n",
       "      <td>7594</td>\n",
       "    </tr>\n",
       "    <tr>\n",
       "      <th>3</th>\n",
       "      <td>City Hotel</td>\n",
       "      <td>February</td>\n",
       "      <td>2</td>\n",
       "      <td>4114</td>\n",
       "    </tr>\n",
       "    <tr>\n",
       "      <th>4</th>\n",
       "      <td>City Hotel</td>\n",
       "      <td>January</td>\n",
       "      <td>2</td>\n",
       "      <td>4336</td>\n",
       "    </tr>\n",
       "    <tr>\n",
       "      <th>5</th>\n",
       "      <td>City Hotel</td>\n",
       "      <td>July</td>\n",
       "      <td>2</td>\n",
       "      <td>8221</td>\n",
       "    </tr>\n",
       "    <tr>\n",
       "      <th>6</th>\n",
       "      <td>City Hotel</td>\n",
       "      <td>June</td>\n",
       "      <td>2</td>\n",
       "      <td>7469</td>\n",
       "    </tr>\n",
       "    <tr>\n",
       "      <th>7</th>\n",
       "      <td>City Hotel</td>\n",
       "      <td>March</td>\n",
       "      <td>2</td>\n",
       "      <td>3730</td>\n",
       "    </tr>\n",
       "    <tr>\n",
       "      <th>8</th>\n",
       "      <td>City Hotel</td>\n",
       "      <td>May</td>\n",
       "      <td>2</td>\n",
       "      <td>6434</td>\n",
       "    </tr>\n",
       "    <tr>\n",
       "      <th>9</th>\n",
       "      <td>City Hotel</td>\n",
       "      <td>November</td>\n",
       "      <td>2</td>\n",
       "      <td>7392</td>\n",
       "    </tr>\n",
       "    <tr>\n",
       "      <th>10</th>\n",
       "      <td>City Hotel</td>\n",
       "      <td>October</td>\n",
       "      <td>3</td>\n",
       "      <td>8967</td>\n",
       "    </tr>\n",
       "    <tr>\n",
       "      <th>11</th>\n",
       "      <td>City Hotel</td>\n",
       "      <td>September</td>\n",
       "      <td>3</td>\n",
       "      <td>8071</td>\n",
       "    </tr>\n",
       "    <tr>\n",
       "      <th>12</th>\n",
       "      <td>Resort Hotel</td>\n",
       "      <td>April</td>\n",
       "      <td>2</td>\n",
       "      <td>3102</td>\n",
       "    </tr>\n",
       "    <tr>\n",
       "      <th>13</th>\n",
       "      <td>Resort Hotel</td>\n",
       "      <td>August</td>\n",
       "      <td>2</td>\n",
       "      <td>3044</td>\n",
       "    </tr>\n",
       "    <tr>\n",
       "      <th>14</th>\n",
       "      <td>Resort Hotel</td>\n",
       "      <td>December</td>\n",
       "      <td>2</td>\n",
       "      <td>3553</td>\n",
       "    </tr>\n",
       "    <tr>\n",
       "      <th>15</th>\n",
       "      <td>Resort Hotel</td>\n",
       "      <td>February</td>\n",
       "      <td>2</td>\n",
       "      <td>2645</td>\n",
       "    </tr>\n",
       "    <tr>\n",
       "      <th>16</th>\n",
       "      <td>Resort Hotel</td>\n",
       "      <td>January</td>\n",
       "      <td>2</td>\n",
       "      <td>2435</td>\n",
       "    </tr>\n",
       "    <tr>\n",
       "      <th>17</th>\n",
       "      <td>Resort Hotel</td>\n",
       "      <td>July</td>\n",
       "      <td>2</td>\n",
       "      <td>3559</td>\n",
       "    </tr>\n",
       "    <tr>\n",
       "      <th>18</th>\n",
       "      <td>Resort Hotel</td>\n",
       "      <td>June</td>\n",
       "      <td>2</td>\n",
       "      <td>3609</td>\n",
       "    </tr>\n",
       "    <tr>\n",
       "      <th>19</th>\n",
       "      <td>Resort Hotel</td>\n",
       "      <td>March</td>\n",
       "      <td>2</td>\n",
       "      <td>2191</td>\n",
       "    </tr>\n",
       "    <tr>\n",
       "      <th>20</th>\n",
       "      <td>Resort Hotel</td>\n",
       "      <td>May</td>\n",
       "      <td>2</td>\n",
       "      <td>3334</td>\n",
       "    </tr>\n",
       "    <tr>\n",
       "      <th>21</th>\n",
       "      <td>Resort Hotel</td>\n",
       "      <td>November</td>\n",
       "      <td>2</td>\n",
       "      <td>3108</td>\n",
       "    </tr>\n",
       "    <tr>\n",
       "      <th>22</th>\n",
       "      <td>Resort Hotel</td>\n",
       "      <td>October</td>\n",
       "      <td>3</td>\n",
       "      <td>4894</td>\n",
       "    </tr>\n",
       "    <tr>\n",
       "      <th>23</th>\n",
       "      <td>Resort Hotel</td>\n",
       "      <td>September</td>\n",
       "      <td>3</td>\n",
       "      <td>4573</td>\n",
       "    </tr>\n",
       "  </tbody>\n",
       "</table>\n",
       "</div>"
      ],
      "text/plain": [
       "           hotel arrival_date_month  nunique  count\n",
       "0     City Hotel              April        2   4950\n",
       "1     City Hotel             August        2   7885\n",
       "2     City Hotel           December        2   7594\n",
       "3     City Hotel           February        2   4114\n",
       "4     City Hotel            January        2   4336\n",
       "5     City Hotel               July        2   8221\n",
       "6     City Hotel               June        2   7469\n",
       "7     City Hotel              March        2   3730\n",
       "8     City Hotel                May        2   6434\n",
       "9     City Hotel           November        2   7392\n",
       "10    City Hotel            October        3   8967\n",
       "11    City Hotel          September        3   8071\n",
       "12  Resort Hotel              April        2   3102\n",
       "13  Resort Hotel             August        2   3044\n",
       "14  Resort Hotel           December        2   3553\n",
       "15  Resort Hotel           February        2   2645\n",
       "16  Resort Hotel            January        2   2435\n",
       "17  Resort Hotel               July        2   3559\n",
       "18  Resort Hotel               June        2   3609\n",
       "19  Resort Hotel              March        2   2191\n",
       "20  Resort Hotel                May        2   3334\n",
       "21  Resort Hotel           November        2   3108\n",
       "22  Resort Hotel            October        3   4894\n",
       "23  Resort Hotel          September        3   4573"
      ]
     },
     "execution_count": 42,
     "metadata": {},
     "output_type": "execute_result"
    }
   ],
   "source": [
    "#Copying preprocessing data\n",
    "df_monthly = df.copy()\n",
    "\n",
    "##Creating an aggregation data by calculating the number of hotel bookings\n",
    "hotel_arrival = df_monthly.groupby(['hotel', 'arrival_date_month'])['arrival_date_year'].agg(['nunique', 'count']).reset_index()\n",
    "hotel_arrival"
   ]
  },
  {
   "cell_type": "code",
   "execution_count": 43,
   "id": "5cd9e75b",
   "metadata": {},
   "outputs": [
    {
     "data": {
      "text/html": [
       "<div>\n",
       "<style scoped>\n",
       "    .dataframe tbody tr th:only-of-type {\n",
       "        vertical-align: middle;\n",
       "    }\n",
       "\n",
       "    .dataframe tbody tr th {\n",
       "        vertical-align: top;\n",
       "    }\n",
       "\n",
       "    .dataframe thead th {\n",
       "        text-align: right;\n",
       "    }\n",
       "</style>\n",
       "<table border=\"1\" class=\"dataframe\">\n",
       "  <thead>\n",
       "    <tr style=\"text-align: right;\">\n",
       "      <th></th>\n",
       "      <th>hotel_variety</th>\n",
       "      <th>month_arrival</th>\n",
       "      <th>unique_booking_year</th>\n",
       "      <th>count_booking</th>\n",
       "    </tr>\n",
       "  </thead>\n",
       "  <tbody>\n",
       "    <tr>\n",
       "      <th>0</th>\n",
       "      <td>City Hotel</td>\n",
       "      <td>April</td>\n",
       "      <td>2</td>\n",
       "      <td>4950</td>\n",
       "    </tr>\n",
       "    <tr>\n",
       "      <th>1</th>\n",
       "      <td>City Hotel</td>\n",
       "      <td>August</td>\n",
       "      <td>2</td>\n",
       "      <td>7885</td>\n",
       "    </tr>\n",
       "    <tr>\n",
       "      <th>2</th>\n",
       "      <td>City Hotel</td>\n",
       "      <td>December</td>\n",
       "      <td>2</td>\n",
       "      <td>7594</td>\n",
       "    </tr>\n",
       "    <tr>\n",
       "      <th>3</th>\n",
       "      <td>City Hotel</td>\n",
       "      <td>February</td>\n",
       "      <td>2</td>\n",
       "      <td>4114</td>\n",
       "    </tr>\n",
       "    <tr>\n",
       "      <th>4</th>\n",
       "      <td>City Hotel</td>\n",
       "      <td>January</td>\n",
       "      <td>2</td>\n",
       "      <td>4336</td>\n",
       "    </tr>\n",
       "    <tr>\n",
       "      <th>5</th>\n",
       "      <td>City Hotel</td>\n",
       "      <td>July</td>\n",
       "      <td>2</td>\n",
       "      <td>8221</td>\n",
       "    </tr>\n",
       "    <tr>\n",
       "      <th>6</th>\n",
       "      <td>City Hotel</td>\n",
       "      <td>June</td>\n",
       "      <td>2</td>\n",
       "      <td>7469</td>\n",
       "    </tr>\n",
       "    <tr>\n",
       "      <th>7</th>\n",
       "      <td>City Hotel</td>\n",
       "      <td>March</td>\n",
       "      <td>2</td>\n",
       "      <td>3730</td>\n",
       "    </tr>\n",
       "    <tr>\n",
       "      <th>8</th>\n",
       "      <td>City Hotel</td>\n",
       "      <td>May</td>\n",
       "      <td>2</td>\n",
       "      <td>6434</td>\n",
       "    </tr>\n",
       "    <tr>\n",
       "      <th>9</th>\n",
       "      <td>City Hotel</td>\n",
       "      <td>November</td>\n",
       "      <td>2</td>\n",
       "      <td>7392</td>\n",
       "    </tr>\n",
       "    <tr>\n",
       "      <th>10</th>\n",
       "      <td>City Hotel</td>\n",
       "      <td>October</td>\n",
       "      <td>3</td>\n",
       "      <td>8967</td>\n",
       "    </tr>\n",
       "    <tr>\n",
       "      <th>11</th>\n",
       "      <td>City Hotel</td>\n",
       "      <td>September</td>\n",
       "      <td>3</td>\n",
       "      <td>8071</td>\n",
       "    </tr>\n",
       "    <tr>\n",
       "      <th>12</th>\n",
       "      <td>Resort Hotel</td>\n",
       "      <td>April</td>\n",
       "      <td>2</td>\n",
       "      <td>3102</td>\n",
       "    </tr>\n",
       "    <tr>\n",
       "      <th>13</th>\n",
       "      <td>Resort Hotel</td>\n",
       "      <td>August</td>\n",
       "      <td>2</td>\n",
       "      <td>3044</td>\n",
       "    </tr>\n",
       "    <tr>\n",
       "      <th>14</th>\n",
       "      <td>Resort Hotel</td>\n",
       "      <td>December</td>\n",
       "      <td>2</td>\n",
       "      <td>3553</td>\n",
       "    </tr>\n",
       "    <tr>\n",
       "      <th>15</th>\n",
       "      <td>Resort Hotel</td>\n",
       "      <td>February</td>\n",
       "      <td>2</td>\n",
       "      <td>2645</td>\n",
       "    </tr>\n",
       "    <tr>\n",
       "      <th>16</th>\n",
       "      <td>Resort Hotel</td>\n",
       "      <td>January</td>\n",
       "      <td>2</td>\n",
       "      <td>2435</td>\n",
       "    </tr>\n",
       "    <tr>\n",
       "      <th>17</th>\n",
       "      <td>Resort Hotel</td>\n",
       "      <td>July</td>\n",
       "      <td>2</td>\n",
       "      <td>3559</td>\n",
       "    </tr>\n",
       "    <tr>\n",
       "      <th>18</th>\n",
       "      <td>Resort Hotel</td>\n",
       "      <td>June</td>\n",
       "      <td>2</td>\n",
       "      <td>3609</td>\n",
       "    </tr>\n",
       "    <tr>\n",
       "      <th>19</th>\n",
       "      <td>Resort Hotel</td>\n",
       "      <td>March</td>\n",
       "      <td>2</td>\n",
       "      <td>2191</td>\n",
       "    </tr>\n",
       "    <tr>\n",
       "      <th>20</th>\n",
       "      <td>Resort Hotel</td>\n",
       "      <td>May</td>\n",
       "      <td>2</td>\n",
       "      <td>3334</td>\n",
       "    </tr>\n",
       "    <tr>\n",
       "      <th>21</th>\n",
       "      <td>Resort Hotel</td>\n",
       "      <td>November</td>\n",
       "      <td>2</td>\n",
       "      <td>3108</td>\n",
       "    </tr>\n",
       "    <tr>\n",
       "      <th>22</th>\n",
       "      <td>Resort Hotel</td>\n",
       "      <td>October</td>\n",
       "      <td>3</td>\n",
       "      <td>4894</td>\n",
       "    </tr>\n",
       "    <tr>\n",
       "      <th>23</th>\n",
       "      <td>Resort Hotel</td>\n",
       "      <td>September</td>\n",
       "      <td>3</td>\n",
       "      <td>4573</td>\n",
       "    </tr>\n",
       "  </tbody>\n",
       "</table>\n",
       "</div>"
      ],
      "text/plain": [
       "   hotel_variety month_arrival  unique_booking_year  count_booking\n",
       "0     City Hotel         April                    2           4950\n",
       "1     City Hotel        August                    2           7885\n",
       "2     City Hotel      December                    2           7594\n",
       "3     City Hotel      February                    2           4114\n",
       "4     City Hotel       January                    2           4336\n",
       "5     City Hotel          July                    2           8221\n",
       "6     City Hotel          June                    2           7469\n",
       "7     City Hotel         March                    2           3730\n",
       "8     City Hotel           May                    2           6434\n",
       "9     City Hotel      November                    2           7392\n",
       "10    City Hotel       October                    3           8967\n",
       "11    City Hotel     September                    3           8071\n",
       "12  Resort Hotel         April                    2           3102\n",
       "13  Resort Hotel        August                    2           3044\n",
       "14  Resort Hotel      December                    2           3553\n",
       "15  Resort Hotel      February                    2           2645\n",
       "16  Resort Hotel       January                    2           2435\n",
       "17  Resort Hotel          July                    2           3559\n",
       "18  Resort Hotel          June                    2           3609\n",
       "19  Resort Hotel         March                    2           2191\n",
       "20  Resort Hotel           May                    2           3334\n",
       "21  Resort Hotel      November                    2           3108\n",
       "22  Resort Hotel       October                    3           4894\n",
       "23  Resort Hotel     September                    3           4573"
      ]
     },
     "execution_count": 43,
     "metadata": {},
     "output_type": "execute_result"
    }
   ],
   "source": [
    "#Changing the table column from the previous result\n",
    "hotel_arrival.columns = ['hotel_variety', 'month_arrival', 'unique_booking_year', 'count_booking']\n",
    "hotel_arrival"
   ]
  },
  {
   "attachments": {},
   "cell_type": "markdown",
   "id": "a1eb96f6",
   "metadata": {},
   "source": [
    "pada kolom `unique_booking_year`, value bulan october dan september berbeda daripada bulan lainnya, maka dari sini kita akan melakukan normalisasi supaya nilainya sama "
   ]
  },
  {
   "cell_type": "code",
   "execution_count": 45,
   "id": "a6f07c6f",
   "metadata": {},
   "outputs": [
    {
     "name": "stdout",
     "output_type": "stream",
     "text": [
      "0     2475.0\n",
      "1     3942.0\n",
      "2     3797.0\n",
      "3     2057.0\n",
      "4     2168.0\n",
      "5     4110.0\n",
      "6     3734.0\n",
      "7     1865.0\n",
      "8     3217.0\n",
      "9     3696.0\n",
      "10    2989.0\n",
      "11    2690.0\n",
      "12    1551.0\n",
      "13    1522.0\n",
      "14    1776.0\n",
      "15    1322.0\n",
      "16    1218.0\n",
      "17    1780.0\n",
      "18    1804.0\n",
      "19    1096.0\n",
      "20    1667.0\n",
      "21    1554.0\n",
      "22    1631.0\n",
      "23    1524.0\n",
      "Name: average_hotel_booking, dtype: float64\n"
     ]
    }
   ],
   "source": [
    "#Normalizing data to get the average number of bookings\n",
    "hotel_arrival['average_hotel_booking'] = hotel_arrival['count_booking']/hotel_arrival['unique_booking_year']\n",
    "\n",
    "print(round(hotel_arrival['average_hotel_booking']))"
   ]
  },
  {
   "cell_type": "code",
   "execution_count": 46,
   "id": "095275e8",
   "metadata": {},
   "outputs": [],
   "source": [
    "#Sorting an alphabetically names of the months\n",
    "months = [\"Jan\", \"Feb\", \"Mar\", \"Apr\", \"May\", \"Jun\", \n",
    "          \"Jul\", \"Aug\", \"Sep\", \"Oct\", \"Nov\", \"Dec\"]\n",
    "hotel_arrival[\"month\"] = hotel_arrival[\"month_arrival\"].str[:3]\n",
    "hotel_arrival[\"month\"] = pd.Categorical(hotel_arrival[\"month\"], categories=months, ordered=True)"
   ]
  },
  {
   "cell_type": "code",
   "execution_count": 47,
   "id": "78c16a96",
   "metadata": {},
   "outputs": [
    {
     "data": {
      "text/html": [
       "<div>\n",
       "<style scoped>\n",
       "    .dataframe tbody tr th:only-of-type {\n",
       "        vertical-align: middle;\n",
       "    }\n",
       "\n",
       "    .dataframe tbody tr th {\n",
       "        vertical-align: top;\n",
       "    }\n",
       "\n",
       "    .dataframe thead th {\n",
       "        text-align: right;\n",
       "    }\n",
       "</style>\n",
       "<table border=\"1\" class=\"dataframe\">\n",
       "  <thead>\n",
       "    <tr style=\"text-align: right;\">\n",
       "      <th></th>\n",
       "      <th>hotel_variety</th>\n",
       "      <th>month_arrival</th>\n",
       "      <th>unique_booking_year</th>\n",
       "      <th>count_booking</th>\n",
       "      <th>average_hotel_booking</th>\n",
       "      <th>month</th>\n",
       "    </tr>\n",
       "  </thead>\n",
       "  <tbody>\n",
       "    <tr>\n",
       "      <th>0</th>\n",
       "      <td>City Hotel</td>\n",
       "      <td>April</td>\n",
       "      <td>2</td>\n",
       "      <td>4950</td>\n",
       "      <td>2475.000000</td>\n",
       "      <td>Apr</td>\n",
       "    </tr>\n",
       "    <tr>\n",
       "      <th>1</th>\n",
       "      <td>City Hotel</td>\n",
       "      <td>August</td>\n",
       "      <td>2</td>\n",
       "      <td>7885</td>\n",
       "      <td>3942.500000</td>\n",
       "      <td>Aug</td>\n",
       "    </tr>\n",
       "    <tr>\n",
       "      <th>2</th>\n",
       "      <td>City Hotel</td>\n",
       "      <td>December</td>\n",
       "      <td>2</td>\n",
       "      <td>7594</td>\n",
       "      <td>3797.000000</td>\n",
       "      <td>Dec</td>\n",
       "    </tr>\n",
       "    <tr>\n",
       "      <th>3</th>\n",
       "      <td>City Hotel</td>\n",
       "      <td>February</td>\n",
       "      <td>2</td>\n",
       "      <td>4114</td>\n",
       "      <td>2057.000000</td>\n",
       "      <td>Feb</td>\n",
       "    </tr>\n",
       "    <tr>\n",
       "      <th>4</th>\n",
       "      <td>City Hotel</td>\n",
       "      <td>January</td>\n",
       "      <td>2</td>\n",
       "      <td>4336</td>\n",
       "      <td>2168.000000</td>\n",
       "      <td>Jan</td>\n",
       "    </tr>\n",
       "    <tr>\n",
       "      <th>5</th>\n",
       "      <td>City Hotel</td>\n",
       "      <td>July</td>\n",
       "      <td>2</td>\n",
       "      <td>8221</td>\n",
       "      <td>4110.500000</td>\n",
       "      <td>Jul</td>\n",
       "    </tr>\n",
       "    <tr>\n",
       "      <th>6</th>\n",
       "      <td>City Hotel</td>\n",
       "      <td>June</td>\n",
       "      <td>2</td>\n",
       "      <td>7469</td>\n",
       "      <td>3734.500000</td>\n",
       "      <td>Jun</td>\n",
       "    </tr>\n",
       "    <tr>\n",
       "      <th>7</th>\n",
       "      <td>City Hotel</td>\n",
       "      <td>March</td>\n",
       "      <td>2</td>\n",
       "      <td>3730</td>\n",
       "      <td>1865.000000</td>\n",
       "      <td>Mar</td>\n",
       "    </tr>\n",
       "    <tr>\n",
       "      <th>8</th>\n",
       "      <td>City Hotel</td>\n",
       "      <td>May</td>\n",
       "      <td>2</td>\n",
       "      <td>6434</td>\n",
       "      <td>3217.000000</td>\n",
       "      <td>May</td>\n",
       "    </tr>\n",
       "    <tr>\n",
       "      <th>9</th>\n",
       "      <td>City Hotel</td>\n",
       "      <td>November</td>\n",
       "      <td>2</td>\n",
       "      <td>7392</td>\n",
       "      <td>3696.000000</td>\n",
       "      <td>Nov</td>\n",
       "    </tr>\n",
       "    <tr>\n",
       "      <th>10</th>\n",
       "      <td>City Hotel</td>\n",
       "      <td>October</td>\n",
       "      <td>3</td>\n",
       "      <td>8967</td>\n",
       "      <td>2989.000000</td>\n",
       "      <td>Oct</td>\n",
       "    </tr>\n",
       "    <tr>\n",
       "      <th>11</th>\n",
       "      <td>City Hotel</td>\n",
       "      <td>September</td>\n",
       "      <td>3</td>\n",
       "      <td>8071</td>\n",
       "      <td>2690.333333</td>\n",
       "      <td>Sep</td>\n",
       "    </tr>\n",
       "    <tr>\n",
       "      <th>12</th>\n",
       "      <td>Resort Hotel</td>\n",
       "      <td>April</td>\n",
       "      <td>2</td>\n",
       "      <td>3102</td>\n",
       "      <td>1551.000000</td>\n",
       "      <td>Apr</td>\n",
       "    </tr>\n",
       "    <tr>\n",
       "      <th>13</th>\n",
       "      <td>Resort Hotel</td>\n",
       "      <td>August</td>\n",
       "      <td>2</td>\n",
       "      <td>3044</td>\n",
       "      <td>1522.000000</td>\n",
       "      <td>Aug</td>\n",
       "    </tr>\n",
       "    <tr>\n",
       "      <th>14</th>\n",
       "      <td>Resort Hotel</td>\n",
       "      <td>December</td>\n",
       "      <td>2</td>\n",
       "      <td>3553</td>\n",
       "      <td>1776.500000</td>\n",
       "      <td>Dec</td>\n",
       "    </tr>\n",
       "    <tr>\n",
       "      <th>15</th>\n",
       "      <td>Resort Hotel</td>\n",
       "      <td>February</td>\n",
       "      <td>2</td>\n",
       "      <td>2645</td>\n",
       "      <td>1322.500000</td>\n",
       "      <td>Feb</td>\n",
       "    </tr>\n",
       "    <tr>\n",
       "      <th>16</th>\n",
       "      <td>Resort Hotel</td>\n",
       "      <td>January</td>\n",
       "      <td>2</td>\n",
       "      <td>2435</td>\n",
       "      <td>1217.500000</td>\n",
       "      <td>Jan</td>\n",
       "    </tr>\n",
       "    <tr>\n",
       "      <th>17</th>\n",
       "      <td>Resort Hotel</td>\n",
       "      <td>July</td>\n",
       "      <td>2</td>\n",
       "      <td>3559</td>\n",
       "      <td>1779.500000</td>\n",
       "      <td>Jul</td>\n",
       "    </tr>\n",
       "    <tr>\n",
       "      <th>18</th>\n",
       "      <td>Resort Hotel</td>\n",
       "      <td>June</td>\n",
       "      <td>2</td>\n",
       "      <td>3609</td>\n",
       "      <td>1804.500000</td>\n",
       "      <td>Jun</td>\n",
       "    </tr>\n",
       "    <tr>\n",
       "      <th>19</th>\n",
       "      <td>Resort Hotel</td>\n",
       "      <td>March</td>\n",
       "      <td>2</td>\n",
       "      <td>2191</td>\n",
       "      <td>1095.500000</td>\n",
       "      <td>Mar</td>\n",
       "    </tr>\n",
       "    <tr>\n",
       "      <th>20</th>\n",
       "      <td>Resort Hotel</td>\n",
       "      <td>May</td>\n",
       "      <td>2</td>\n",
       "      <td>3334</td>\n",
       "      <td>1667.000000</td>\n",
       "      <td>May</td>\n",
       "    </tr>\n",
       "    <tr>\n",
       "      <th>21</th>\n",
       "      <td>Resort Hotel</td>\n",
       "      <td>November</td>\n",
       "      <td>2</td>\n",
       "      <td>3108</td>\n",
       "      <td>1554.000000</td>\n",
       "      <td>Nov</td>\n",
       "    </tr>\n",
       "    <tr>\n",
       "      <th>22</th>\n",
       "      <td>Resort Hotel</td>\n",
       "      <td>October</td>\n",
       "      <td>3</td>\n",
       "      <td>4894</td>\n",
       "      <td>1631.333333</td>\n",
       "      <td>Oct</td>\n",
       "    </tr>\n",
       "    <tr>\n",
       "      <th>23</th>\n",
       "      <td>Resort Hotel</td>\n",
       "      <td>September</td>\n",
       "      <td>3</td>\n",
       "      <td>4573</td>\n",
       "      <td>1524.333333</td>\n",
       "      <td>Sep</td>\n",
       "    </tr>\n",
       "  </tbody>\n",
       "</table>\n",
       "</div>"
      ],
      "text/plain": [
       "   hotel_variety month_arrival  unique_booking_year  count_booking  \\\n",
       "0     City Hotel         April                    2           4950   \n",
       "1     City Hotel        August                    2           7885   \n",
       "2     City Hotel      December                    2           7594   \n",
       "3     City Hotel      February                    2           4114   \n",
       "4     City Hotel       January                    2           4336   \n",
       "5     City Hotel          July                    2           8221   \n",
       "6     City Hotel          June                    2           7469   \n",
       "7     City Hotel         March                    2           3730   \n",
       "8     City Hotel           May                    2           6434   \n",
       "9     City Hotel      November                    2           7392   \n",
       "10    City Hotel       October                    3           8967   \n",
       "11    City Hotel     September                    3           8071   \n",
       "12  Resort Hotel         April                    2           3102   \n",
       "13  Resort Hotel        August                    2           3044   \n",
       "14  Resort Hotel      December                    2           3553   \n",
       "15  Resort Hotel      February                    2           2645   \n",
       "16  Resort Hotel       January                    2           2435   \n",
       "17  Resort Hotel          July                    2           3559   \n",
       "18  Resort Hotel          June                    2           3609   \n",
       "19  Resort Hotel         March                    2           2191   \n",
       "20  Resort Hotel           May                    2           3334   \n",
       "21  Resort Hotel      November                    2           3108   \n",
       "22  Resort Hotel       October                    3           4894   \n",
       "23  Resort Hotel     September                    3           4573   \n",
       "\n",
       "    average_hotel_booking month  \n",
       "0             2475.000000   Apr  \n",
       "1             3942.500000   Aug  \n",
       "2             3797.000000   Dec  \n",
       "3             2057.000000   Feb  \n",
       "4             2168.000000   Jan  \n",
       "5             4110.500000   Jul  \n",
       "6             3734.500000   Jun  \n",
       "7             1865.000000   Mar  \n",
       "8             3217.000000   May  \n",
       "9             3696.000000   Nov  \n",
       "10            2989.000000   Oct  \n",
       "11            2690.333333   Sep  \n",
       "12            1551.000000   Apr  \n",
       "13            1522.000000   Aug  \n",
       "14            1776.500000   Dec  \n",
       "15            1322.500000   Feb  \n",
       "16            1217.500000   Jan  \n",
       "17            1779.500000   Jul  \n",
       "18            1804.500000   Jun  \n",
       "19            1095.500000   Mar  \n",
       "20            1667.000000   May  \n",
       "21            1554.000000   Nov  \n",
       "22            1631.333333   Oct  \n",
       "23            1524.333333   Sep  "
      ]
     },
     "execution_count": 47,
     "metadata": {},
     "output_type": "execute_result"
    }
   ],
   "source": [
    "hotel_arrival"
   ]
  },
  {
   "cell_type": "code",
   "execution_count": 56,
   "id": "c36bd5ce",
   "metadata": {},
   "outputs": [
    {
     "data": {
      "image/png": "[encoded data removed]",
      "text/plain": [
       "<Figure size 864x576 with 1 Axes>"
      ]
     },
     "metadata": {
      "needs_background": "light"
     },
     "output_type": "display_data"
    }
   ],
   "source": [
    "fig, ax1 = plt.subplots()\n",
    "fig.set_figheight(8)\n",
    "fig.set_figwidth(12)\n",
    "\n",
    "sns.lineplot(x='month', y='average_hotel_booking', data=hotel_arrival, hue=\"hotel_variety\", hue_order=[\"Resort Hotel\",\"City Hotel\"]).set(xlabel=None)\n",
    "plt.ylabel('Average Booking', fontsize = 15)\n",
    "plt.xlabel('Monthly Arrival', fontsize = 15)\n",
    "plt.title('AVG monthly hotel booking')\n",
    "plt.grid()\n",
    "plt.legend(loc=\"center right\")\n",
    "plt.xticks(rotation=90);"
   ]
  },
  {
   "cell_type": "code",
   "execution_count": 57,
   "id": "aa45583b",
   "metadata": {},
   "outputs": [
    {
     "data": {
      "text/plain": [
       "<module 'seaborn' from 'C:\\\\Users\\\\ASUS\\\\AppData\\\\Roaming\\\\Python\\\\Python39\\\\site-packages\\\\seaborn\\\\__init__.py'>"
      ]
     },
     "execution_count": 57,
     "metadata": {},
     "output_type": "execute_result"
    },
    {
     "data": {
      "image/png": "[encoded data removed]",
      "text/plain": [
       "<Figure size 1080x576 with 1 Axes>"
      ]
     },
     "metadata": {
      "needs_background": "light"
     },
     "output_type": "display_data"
    }
   ],
   "source": [
    "#selanjutnya kita ingin mengetahui, pada bulan apa perubahan jumlah pengunjung yang terjadi\n",
    "plt.figure(figsize= (15,8))\n",
    "Months = ['January', 'February', 'March', 'April', 'May', 'June', 'July', 'August', 'September', 'October', 'November', 'December']\n",
    "sns.countplot(x='arrival_date_month', hue='hotel', data=df, order=Months)\n",
    "plt.title('Total Monthly Hotel Booking')\n",
    "sns"
   ]
  },
  {
   "attachments": {},
   "cell_type": "markdown",
   "id": "dccc3842",
   "metadata": {},
   "source": [
    "Pada bulan Juni dan Juli jumlah pengunjung di kedua tipe hotel memiliki pengunjung terbanyak, hal ini dikarenakan pada bulan tersebut merupakan masa liburan sekolah. sedangkan pada bulan agustus dan september memiliki penurunan yang sangat tajam dikarenakan pada bulan itu adalah waktu berakhirnya masa liburan sekolah. \n",
    "Sedangkan pada bulan November-Desember terjadi kenaikan jumlah pengunjung di kedua hotel dikarenakan adanya libur akhir tahun dan libur Nataru(natal dan tahun baru). Pada periode Januari-Maret jumlah pengunjung di kedua hotel memiliki nilai paling rendah dikarenakan pada masa masa ini tidak adanya libur panjang, sehingga tidak banyak orang yang memutuskan untuk bepergian/liburan\n"
   ]
  },
  {
   "cell_type": "code",
   "execution_count": 58,
   "id": "cf51f0cb",
   "metadata": {},
   "outputs": [
    {
     "data": {
      "text/plain": [
       "<module 'seaborn' from 'C:\\\\Users\\\\ASUS\\\\AppData\\\\Roaming\\\\Python\\\\Python39\\\\site-packages\\\\seaborn\\\\__init__.py'>"
      ]
     },
     "execution_count": 58,
     "metadata": {},
     "output_type": "execute_result"
    },
    {
     "data": {
      "image/png": "[encoded data removed]",
      "text/plain": [
       "<Figure size 1080x576 with 1 Axes>"
      ]
     },
     "metadata": {
      "needs_background": "light"
     },
     "output_type": "display_data"
    }
   ],
   "source": [
    "#selanjutnya kita ingin mengetahui, pada tahun berapa perubahan jumlah pengunjung yang terjadi\n",
    "plt.figure(figsize= (15,8))\n",
    "Months = ['January', 'February', 'March', 'April', 'May', 'June', 'July', 'August', 'September', 'October', 'November', 'December']\n",
    "sns.countplot(x='arrival_date_month', hue='arrival_date_year', data=df, order=Months)\n",
    "plt.title('Total Customer by Year')\n",
    "sns"
   ]
  },
  {
   "attachments": {},
   "cell_type": "markdown",
   "id": "35745898",
   "metadata": {},
   "source": [
    "Jumlah pengunjung hotel setiap tahunnya terus berkurang dari tahun 2017 sampai 2019. "
   ]
  },
  {
   "cell_type": "code",
   "execution_count": 23,
   "id": "ca477d59",
   "metadata": {},
   "outputs": [
    {
     "data": {
      "text/plain": [
       "<module 'seaborn' from 'C:\\\\Users\\\\ASUS\\\\AppData\\\\Roaming\\\\Python\\\\Python39\\\\site-packages\\\\seaborn\\\\__init__.py'>"
      ]
     },
     "execution_count": 23,
     "metadata": {},
     "output_type": "execute_result"
    },
    {
     "data": {
      "image/png": "[encoded data removed]",
      "text/plain": [
       "<Figure size 1080x576 with 1 Axes>"
      ]
     },
     "metadata": {
      "needs_background": "light"
     },
     "output_type": "display_data"
    }
   ],
   "source": [
    "# pengunjung yang membawa anak-anak dan bayi di setiap jenis hotel\n",
    "plt.figure(figsize= (15,8))\n",
    "sns.countplot(x='hotel', hue='arrival_date_year', data=df)\n",
    "sns"
   ]
  },
  {
   "cell_type": "markdown",
   "id": "416b6913",
   "metadata": {},
   "source": [
    "### EDA"
   ]
  },
  {
   "cell_type": "code",
   "execution_count": 24,
   "id": "e77fd472",
   "metadata": {},
   "outputs": [
    {
     "data": {
      "application/vnd.plotly.v1+json": {
       "config": {
        "plotlyServerURL": "https://plot.ly"
       },
       "data": [
        {
         "hovertemplate": "is_canceled<br>%{x}: %{y:.3}%<extra></extra>",
         "marker": {
          "color": [
           "#C02B34",
           "#CDBBA7"
          ],
          "line": {
           "color": "#28221D",
           "width": 1
          }
         },
         "opacity": 0.8,
         "showlegend": false,
         "text": [
          37.0765875346028,
          62.9234124653972
         ],
         "textfont": {
          "color": "black",
          "size": 14
         },
         "textposition": "outside",
         "texttemplate": "%{text:.3s}%",
         "type": "bar",
         "x": [
          "Canceled",
          "Canceled"
         ],
         "xaxis": "x",
         "y": [
          37.0765875346028,
          62.9234124653972
         ],
         "yaxis": "y"
        },
        {
         "domain": {
          "x": [
           0.55,
           1
          ],
          "y": [
           0,
           1
          ]
         },
         "hole": 0.4,
         "hovertemplate": "%{label}<br>hotel: %{value:.3}%<extra></extra>",
         "labels": [
          "City Hotel",
          "Resort Hotel"
         ],
         "marker": {
          "colors": [
           "#587D65",
           "#ADC4B2",
           "#D1C9C2"
          ],
          "line": {
           "color": "#28221D",
           "width": 1
          }
         },
         "opacity": 0.85,
         "textfont": {
          "color": "black",
          "size": 14
         },
         "type": "pie",
         "values": [
          66.4063417498532,
          33.5936582501468
         ]
        }
       ],
       "layout": {
        "annotations": [
         {
          "font": {
           "size": 16
          },
          "showarrow": false,
          "text": "Jenis Hotel",
          "x": 0.775,
          "xanchor": "center",
          "xref": "paper",
          "y": 1,
          "yanchor": "bottom",
          "yref": "paper"
         }
        ],
        "font": {
         "color": "#28221D"
        },
        "paper_bgcolor": "#F4F2F0",
        "plot_bgcolor": "#F4F2F0",
        "template": {
         "data": {
          "bar": [
           {
            "error_x": {
             "color": "#2a3f5f"
            },
            "error_y": {
             "color": "#2a3f5f"
            },
            "marker": {
             "line": {
              "color": "#E5ECF6",
              "width": 0.5
             },
             "pattern": {
              "fillmode": "overlay",
              "size": 10,
              "solidity": 0.2
             }
            },
            "type": "bar"
           }
          ],
          "barpolar": [
           {
            "marker": {
             "line": {
              "color": "#E5ECF6",
              "width": 0.5
             },
             "pattern": {
              "fillmode": "overlay",
              "size": 10,
              "solidity": 0.2
             }
            },
            "type": "barpolar"
           }
          ],
          "carpet": [
           {
            "aaxis": {
             "endlinecolor": "#2a3f5f",
             "gridcolor": "white",
             "linecolor": "white",
             "minorgridcolor": "white",
             "startlinecolor": "#2a3f5f"
            },
            "baxis": {
             "endlinecolor": "#2a3f5f",
             "gridcolor": "white",
             "linecolor": "white",
             "minorgridcolor": "white",
             "startlinecolor": "#2a3f5f"
            },
            "type": "carpet"
           }
          ],
          "choropleth": [
           {
            "colorbar": {
             "outlinewidth": 0,
             "ticks": ""
            },
            "type": "choropleth"
           }
          ],
          "contour": [
           {
            "colorbar": {
             "outlinewidth": 0,
             "ticks": ""
            },
            "colorscale": [
             [
              0,
              "#0d0887"
             ],
             [
              0.1111111111111111,
              "#46039f"
             ],
             [
              0.2222222222222222,
              "#7201a8"
             ],
             [
              0.3333333333333333,
              "#9c179e"
             ],
             [
              0.4444444444444444,
              "#bd3786"
             ],
             [
              0.5555555555555556,
              "#d8576b"
             ],
             [
              0.6666666666666666,
              "#ed7953"
             ],
             [
              0.7777777777777778,
              "#fb9f3a"
             ],
             [
              0.8888888888888888,
              "#fdca26"
             ],
             [
              1,
              "#f0f921"
             ]
            ],
            "type": "contour"
           }
          ],
          "contourcarpet": [
           {
            "colorbar": {
             "outlinewidth": 0,
             "ticks": ""
            },
            "type": "contourcarpet"
           }
          ],
          "heatmap": [
           {
            "colorbar": {
             "outlinewidth": 0,
             "ticks": ""
            },
            "colorscale": [
             [
              0,
              "#0d0887"
             ],
             [
              0.1111111111111111,
              "#46039f"
             ],
             [
              0.2222222222222222,
              "#7201a8"
             ],
             [
              0.3333333333333333,
              "#9c179e"
             ],
             [
              0.4444444444444444,
              "#bd3786"
             ],
             [
              0.5555555555555556,
              "#d8576b"
             ],
             [
              0.6666666666666666,
              "#ed7953"
             ],
             [
              0.7777777777777778,
              "#fb9f3a"
             ],
             [
              0.8888888888888888,
              "#fdca26"
             ],
             [
              1,
              "#f0f921"
             ]
            ],
            "type": "heatmap"
           }
          ],
          "heatmapgl": [
           {
            "colorbar": {
             "outlinewidth": 0,
             "ticks": ""
            },
            "colorscale": [
             [
              0,
              "#0d0887"
             ],
             [
              0.1111111111111111,
              "#46039f"
             ],
             [
              0.2222222222222222,
              "#7201a8"
             ],
             [
              0.3333333333333333,
              "#9c179e"
             ],
             [
              0.4444444444444444,
              "#bd3786"
             ],
             [
              0.5555555555555556,
              "#d8576b"
             ],
             [
              0.6666666666666666,
              "#ed7953"
             ],
             [
              0.7777777777777778,
              "#fb9f3a"
             ],
             [
              0.8888888888888888,
              "#fdca26"
             ],
             [
              1,
              "#f0f921"
             ]
            ],
            "type": "heatmapgl"
           }
          ],
          "histogram": [
           {
            "marker": {
             "pattern": {
              "fillmode": "overlay",
              "size": 10,
              "solidity": 0.2
             }
            },
            "type": "histogram"
           }
          ],
          "histogram2d": [
           {
            "colorbar": {
             "outlinewidth": 0,
             "ticks": ""
            },
            "colorscale": [
             [
              0,
              "#0d0887"
             ],
             [
              0.1111111111111111,
              "#46039f"
             ],
             [
              0.2222222222222222,
              "#7201a8"
             ],
             [
              0.3333333333333333,
              "#9c179e"
             ],
             [
              0.4444444444444444,
              "#bd3786"
             ],
             [
              0.5555555555555556,
              "#d8576b"
             ],
             [
              0.6666666666666666,
              "#ed7953"
             ],
             [
              0.7777777777777778,
              "#fb9f3a"
             ],
             [
              0.8888888888888888,
              "#fdca26"
             ],
             [
              1,
              "#f0f921"
             ]
            ],
            "type": "histogram2d"
           }
          ],
          "histogram2dcontour": [
           {
            "colorbar": {
             "outlinewidth": 0,
             "ticks": ""
            },
            "colorscale": [
             [
              0,
              "#0d0887"
             ],
             [
              0.1111111111111111,
              "#46039f"
             ],
             [
              0.2222222222222222,
              "#7201a8"
             ],
             [
              0.3333333333333333,
              "#9c179e"
             ],
             [
              0.4444444444444444,
              "#bd3786"
             ],
             [
              0.5555555555555556,
              "#d8576b"
             ],
             [
              0.6666666666666666,
              "#ed7953"
             ],
             [
              0.7777777777777778,
              "#fb9f3a"
             ],
             [
              0.8888888888888888,
              "#fdca26"
             ],
             [
              1,
              "#f0f921"
             ]
            ],
            "type": "histogram2dcontour"
           }
          ],
          "mesh3d": [
           {
            "colorbar": {
             "outlinewidth": 0,
             "ticks": ""
            },
            "type": "mesh3d"
           }
          ],
          "parcoords": [
           {
            "line": {
             "colorbar": {
              "outlinewidth": 0,
              "ticks": ""
             }
            },
            "type": "parcoords"
           }
          ],
          "pie": [
           {
            "automargin": true,
            "type": "pie"
           }
          ],
          "scatter": [
           {
            "marker": {
             "colorbar": {
              "outlinewidth": 0,
              "ticks": ""
             }
            },
            "type": "scatter"
           }
          ],
          "scatter3d": [
           {
            "line": {
             "colorbar": {
              "outlinewidth": 0,
              "ticks": ""
             }
            },
            "marker": {
             "colorbar": {
              "outlinewidth": 0,
              "ticks": ""
             }
            },
            "type": "scatter3d"
           }
          ],
          "scattercarpet": [
           {
            "marker": {
             "colorbar": {
              "outlinewidth": 0,
              "ticks": ""
             }
            },
            "type": "scattercarpet"
           }
          ],
          "scattergeo": [
           {
            "marker": {
             "colorbar": {
              "outlinewidth": 0,
              "ticks": ""
             }
            },
            "type": "scattergeo"
           }
          ],
          "scattergl": [
           {
            "marker": {
             "colorbar": {
              "outlinewidth": 0,
              "ticks": ""
             }
            },
            "type": "scattergl"
           }
          ],
          "scattermapbox": [
           {
            "marker": {
             "colorbar": {
              "outlinewidth": 0,
              "ticks": ""
             }
            },
            "type": "scattermapbox"
           }
          ],
          "scatterpolar": [
           {
            "marker": {
             "colorbar": {
              "outlinewidth": 0,
              "ticks": ""
             }
            },
            "type": "scatterpolar"
           }
          ],
          "scatterpolargl": [
           {
            "marker": {
             "colorbar": {
              "outlinewidth": 0,
              "ticks": ""
             }
            },
            "type": "scatterpolargl"
           }
          ],
          "scatterternary": [
           {
            "marker": {
             "colorbar": {
              "outlinewidth": 0,
              "ticks": ""
             }
            },
            "type": "scatterternary"
           }
          ],
          "surface": [
           {
            "colorbar": {
             "outlinewidth": 0,
             "ticks": ""
            },
            "colorscale": [
             [
              0,
              "#0d0887"
             ],
             [
              0.1111111111111111,
              "#46039f"
             ],
             [
              0.2222222222222222,
              "#7201a8"
             ],
             [
              0.3333333333333333,
              "#9c179e"
             ],
             [
              0.4444444444444444,
              "#bd3786"
             ],
             [
              0.5555555555555556,
              "#d8576b"
             ],
             [
              0.6666666666666666,
              "#ed7953"
             ],
             [
              0.7777777777777778,
              "#fb9f3a"
             ],
             [
              0.8888888888888888,
              "#fdca26"
             ],
             [
              1,
              "#f0f921"
             ]
            ],
            "type": "surface"
           }
          ],
          "table": [
           {
            "cells": {
             "fill": {
              "color": "#EBF0F8"
             },
             "line": {
              "color": "white"
             }
            },
            "header": {
             "fill": {
              "color": "#C8D4E3"
             },
             "line": {
              "color": "white"
             }
            },
            "type": "table"
           }
          ]
         },
         "layout": {
          "annotationdefaults": {
           "arrowcolor": "#2a3f5f",
           "arrowhead": 0,
           "arrowwidth": 1
          },
          "autotypenumbers": "strict",
          "coloraxis": {
           "colorbar": {
            "outlinewidth": 0,
            "ticks": ""
           }
          },
          "colorscale": {
           "diverging": [
            [
             0,
             "#8e0152"
            ],
            [
             0.1,
             "#c51b7d"
            ],
            [
             0.2,
             "#de77ae"
            ],
            [
             0.3,
             "#f1b6da"
            ],
            [
             0.4,
             "#fde0ef"
            ],
            [
             0.5,
             "#f7f7f7"
            ],
            [
             0.6,
             "#e6f5d0"
            ],
            [
             0.7,
             "#b8e186"
            ],
            [
             0.8,
             "#7fbc41"
            ],
            [
             0.9,
             "#4d9221"
            ],
            [
             1,
             "#276419"
            ]
           ],
           "sequential": [
            [
             0,
             "#0d0887"
            ],
            [
             0.1111111111111111,
             "#46039f"
            ],
            [
             0.2222222222222222,
             "#7201a8"
            ],
            [
             0.3333333333333333,
             "#9c179e"
            ],
            [
             0.4444444444444444,
             "#bd3786"
            ],
            [
             0.5555555555555556,
             "#d8576b"
            ],
            [
             0.6666666666666666,
             "#ed7953"
            ],
            [
             0.7777777777777778,
             "#fb9f3a"
            ],
            [
             0.8888888888888888,
             "#fdca26"
            ],
            [
             1,
             "#f0f921"
            ]
           ],
           "sequentialminus": [
            [
             0,
             "#0d0887"
            ],
            [
             0.1111111111111111,
             "#46039f"
            ],
            [
             0.2222222222222222,
             "#7201a8"
            ],
            [
             0.3333333333333333,
             "#9c179e"
            ],
            [
             0.4444444444444444,
             "#bd3786"
            ],
            [
             0.5555555555555556,
             "#d8576b"
            ],
            [
             0.6666666666666666,
             "#ed7953"
            ],
            [
             0.7777777777777778,
             "#fb9f3a"
            ],
            [
             0.8888888888888888,
             "#fdca26"
            ],
            [
             1,
             "#f0f921"
            ]
           ]
          },
          "colorway": [
           "#636efa",
           "#EF553B",
           "#00cc96",
           "#ab63fa",
           "#FFA15A",
           "#19d3f3",
           "#FF6692",
           "#B6E880",
           "#FF97FF",
           "#FECB52"
          ],
          "font": {
           "color": "#2a3f5f"
          },
          "geo": {
           "bgcolor": "white",
           "lakecolor": "white",
           "landcolor": "#E5ECF6",
           "showlakes": true,
           "showland": true,
           "subunitcolor": "white"
          },
          "hoverlabel": {
           "align": "left"
          },
          "hovermode": "closest",
          "mapbox": {
           "style": "light"
          },
          "paper_bgcolor": "white",
          "plot_bgcolor": "#E5ECF6",
          "polar": {
           "angularaxis": {
            "gridcolor": "white",
            "linecolor": "white",
            "ticks": ""
           },
           "bgcolor": "#E5ECF6",
           "radialaxis": {
            "gridcolor": "white",
            "linecolor": "white",
            "ticks": ""
           }
          },
          "scene": {
           "xaxis": {
            "backgroundcolor": "#E5ECF6",
            "gridcolor": "white",
            "gridwidth": 2,
            "linecolor": "white",
            "showbackground": true,
            "ticks": "",
            "zerolinecolor": "white"
           },
           "yaxis": {
            "backgroundcolor": "#E5ECF6",
            "gridcolor": "white",
            "gridwidth": 2,
            "linecolor": "white",
            "showbackground": true,
            "ticks": "",
            "zerolinecolor": "white"
           },
           "zaxis": {
            "backgroundcolor": "#E5ECF6",
            "gridcolor": "white",
            "gridwidth": 2,
            "linecolor": "white",
            "showbackground": true,
            "ticks": "",
            "zerolinecolor": "white"
           }
          },
          "shapedefaults": {
           "line": {
            "color": "#2a3f5f"
           }
          },
          "ternary": {
           "aaxis": {
            "gridcolor": "white",
            "linecolor": "white",
            "ticks": ""
           },
           "baxis": {
            "gridcolor": "white",
            "linecolor": "white",
            "ticks": ""
           },
           "bgcolor": "#E5ECF6",
           "caxis": {
            "gridcolor": "white",
            "linecolor": "white",
            "ticks": ""
           }
          },
          "title": {
           "x": 0.05
          },
          "xaxis": {
           "automargin": true,
           "gridcolor": "white",
           "linecolor": "white",
           "ticks": "",
           "title": {
            "standoff": 15
           },
           "zerolinecolor": "white",
           "zerolinewidth": 2
          },
          "yaxis": {
           "automargin": true,
           "gridcolor": "white",
           "linecolor": "white",
           "ticks": "",
           "title": {
            "standoff": 15
           },
           "zerolinecolor": "white",
           "zerolinewidth": 2
          }
         }
        },
        "title": {
         "text": "Hotel Canceled and type of hotel"
        },
        "xaxis": {
         "anchor": "y",
         "domain": [
          0,
          0.45
         ]
        },
        "yaxis": {
         "anchor": "x",
         "domain": [
          0,
          1
         ],
         "dtick": 5,
         "range": [
          0,
          90
         ],
         "tickmode": "array",
         "ticksuffix": "%",
         "zeroline": true,
         "zerolinecolor": "gray",
         "zerolinewidth": 1
        }
       }
      },
      "text/html": [
       "<div>                            <div id=\"169f5422-1c4b-4e4d-809f-509645c020c6\" class=\"plotly-graph-div\" style=\"height:525px; width:100%;\"></div>            <script type=\"text/javascript\">                require([\"plotly\"], function(Plotly) {                    window.PLOTLYENV=window.PLOTLYENV || {};                                    if (document.getElementById(\"169f5422-1c4b-4e4d-809f-509645c020c6\")) {                    Plotly.newPlot(                        \"169f5422-1c4b-4e4d-809f-509645c020c6\",                        [{\"hovertemplate\":\"is_canceled<br>%{x}: %{y:.3}%<extra></extra>\",\"opacity\":0.8,\"showlegend\":false,\"text\":[37.0765875346028,62.9234124653972],\"x\":[\"Canceled\",\"Canceled\"],\"y\":[37.0765875346028,62.9234124653972],\"type\":\"bar\",\"xaxis\":\"x\",\"yaxis\":\"y\",\"marker\":{\"line\":{\"color\":\"#28221D\",\"width\":1},\"color\":[\"#C02B34\",\"#CDBBA7\"]},\"textposition\":\"outside\",\"texttemplate\":\"%{text:.3s}%\",\"textfont\":{\"color\":\"black\",\"size\":14}},{\"hole\":0.4,\"hovertemplate\":\"%{label}<br>hotel: %{value:.3}%<extra></extra>\",\"labels\":[\"City Hotel\",\"Resort Hotel\"],\"marker\":{\"colors\":[\"#587D65\",\"#ADC4B2\",\"#D1C9C2\"],\"line\":{\"color\":\"#28221D\",\"width\":1}},\"opacity\":0.85,\"values\":[66.4063417498532,33.5936582501468],\"type\":\"pie\",\"domain\":{\"x\":[0.55,1.0],\"y\":[0.0,1.0]},\"textfont\":{\"color\":\"black\",\"size\":14}}],                        {\"template\":{\"data\":{\"bar\":[{\"error_x\":{\"color\":\"#2a3f5f\"},\"error_y\":{\"color\":\"#2a3f5f\"},\"marker\":{\"line\":{\"color\":\"#E5ECF6\",\"width\":0.5},\"pattern\":{\"fillmode\":\"overlay\",\"size\":10,\"solidity\":0.2}},\"type\":\"bar\"}],\"barpolar\":[{\"marker\":{\"line\":{\"color\":\"#E5ECF6\",\"width\":0.5},\"pattern\":{\"fillmode\":\"overlay\",\"size\":10,\"solidity\":0.2}},\"type\":\"barpolar\"}],\"carpet\":[{\"aaxis\":{\"endlinecolor\":\"#2a3f5f\",\"gridcolor\":\"white\",\"linecolor\":\"white\",\"minorgridcolor\":\"white\",\"startlinecolor\":\"#2a3f5f\"},\"baxis\":{\"endlinecolor\":\"#2a3f5f\",\"gridcolor\":\"white\",\"linecolor\":\"white\",\"minorgridcolor\":\"white\",\"startlinecolor\":\"#2a3f5f\"},\"type\":\"carpet\"}],\"choropleth\":[{\"colorbar\":{\"outlinewidth\":0,\"ticks\":\"\"},\"type\":\"choropleth\"}],\"contour\":[{\"colorbar\":{\"outlinewidth\":0,\"ticks\":\"\"},\"colorscale\":[[0.0,\"#0d0887\"],[0.1111111111111111,\"#46039f\"],[0.2222222222222222,\"#7201a8\"],[0.3333333333333333,\"#9c179e\"],[0.4444444444444444,\"#bd3786\"],[0.5555555555555556,\"#d8576b\"],[0.6666666666666666,\"#ed7953\"],[0.7777777777777778,\"#fb9f3a\"],[0.8888888888888888,\"#fdca26\"],[1.0,\"#f0f921\"]],\"type\":\"contour\"}],\"contourcarpet\":[{\"colorbar\":{\"outlinewidth\":0,\"ticks\":\"\"},\"type\":\"contourcarpet\"}],\"heatmap\":[{\"colorbar\":{\"outlinewidth\":0,\"ticks\":\"\"},\"colorscale\":[[0.0,\"#0d0887\"],[0.1111111111111111,\"#46039f\"],[0.2222222222222222,\"#7201a8\"],[0.3333333333333333,\"#9c179e\"],[0.4444444444444444,\"#bd3786\"],[0.5555555555555556,\"#d8576b\"],[0.6666666666666666,\"#ed7953\"],[0.7777777777777778,\"#fb9f3a\"],[0.8888888888888888,\"#fdca26\"],[1.0,\"#f0f921\"]],\"type\":\"heatmap\"}],\"heatmapgl\":[{\"colorbar\":{\"outlinewidth\":0,\"ticks\":\"\"},\"colorscale\":[[0.0,\"#0d0887\"],[0.1111111111111111,\"#46039f\"],[0.2222222222222222,\"#7201a8\"],[0.3333333333333333,\"#9c179e\"],[0.4444444444444444,\"#bd3786\"],[0.5555555555555556,\"#d8576b\"],[0.6666666666666666,\"#ed7953\"],[0.7777777777777778,\"#fb9f3a\"],[0.8888888888888888,\"#fdca26\"],[1.0,\"#f0f921\"]],\"type\":\"heatmapgl\"}],\"histogram\":[{\"marker\":{\"pattern\":{\"fillmode\":\"overlay\",\"size\":10,\"solidity\":0.2}},\"type\":\"histogram\"}],\"histogram2d\":[{\"colorbar\":{\"outlinewidth\":0,\"ticks\":\"\"},\"colorscale\":[[0.0,\"#0d0887\"],[0.1111111111111111,\"#46039f\"],[0.2222222222222222,\"#7201a8\"],[0.3333333333333333,\"#9c179e\"],[0.4444444444444444,\"#bd3786\"],[0.5555555555555556,\"#d8576b\"],[0.6666666666666666,\"#ed7953\"],[0.7777777777777778,\"#fb9f3a\"],[0.8888888888888888,\"#fdca26\"],[1.0,\"#f0f921\"]],\"type\":\"histogram2d\"}],\"histogram2dcontour\":[{\"colorbar\":{\"outlinewidth\":0,\"ticks\":\"\"},\"colorscale\":[[0.0,\"#0d0887\"],[0.1111111111111111,\"#46039f\"],[0.2222222222222222,\"#7201a8\"],[0.3333333333333333,\"#9c179e\"],[0.4444444444444444,\"#bd3786\"],[0.5555555555555556,\"#d8576b\"],[0.6666666666666666,\"#ed7953\"],[0.7777777777777778,\"#fb9f3a\"],[0.8888888888888888,\"#fdca26\"],[1.0,\"#f0f921\"]],\"type\":\"histogram2dcontour\"}],\"mesh3d\":[{\"colorbar\":{\"outlinewidth\":0,\"ticks\":\"\"},\"type\":\"mesh3d\"}],\"parcoords\":[{\"line\":{\"colorbar\":{\"outlinewidth\":0,\"ticks\":\"\"}},\"type\":\"parcoords\"}],\"pie\":[{\"automargin\":true,\"type\":\"pie\"}],\"scatter\":[{\"marker\":{\"colorbar\":{\"outlinewidth\":0,\"ticks\":\"\"}},\"type\":\"scatter\"}],\"scatter3d\":[{\"line\":{\"colorbar\":{\"outlinewidth\":0,\"ticks\":\"\"}},\"marker\":{\"colorbar\":{\"outlinewidth\":0,\"ticks\":\"\"}},\"type\":\"scatter3d\"}],\"scattercarpet\":[{\"marker\":{\"colorbar\":{\"outlinewidth\":0,\"ticks\":\"\"}},\"type\":\"scattercarpet\"}],\"scattergeo\":[{\"marker\":{\"colorbar\":{\"outlinewidth\":0,\"ticks\":\"\"}},\"type\":\"scattergeo\"}],\"scattergl\":[{\"marker\":{\"colorbar\":{\"outlinewidth\":0,\"ticks\":\"\"}},\"type\":\"scattergl\"}],\"scattermapbox\":[{\"marker\":{\"colorbar\":{\"outlinewidth\":0,\"ticks\":\"\"}},\"type\":\"scattermapbox\"}],\"scatterpolar\":[{\"marker\":{\"colorbar\":{\"outlinewidth\":0,\"ticks\":\"\"}},\"type\":\"scatterpolar\"}],\"scatterpolargl\":[{\"marker\":{\"colorbar\":{\"outlinewidth\":0,\"ticks\":\"\"}},\"type\":\"scatterpolargl\"}],\"scatterternary\":[{\"marker\":{\"colorbar\":{\"outlinewidth\":0,\"ticks\":\"\"}},\"type\":\"scatterternary\"}],\"surface\":[{\"colorbar\":{\"outlinewidth\":0,\"ticks\":\"\"},\"colorscale\":[[0.0,\"#0d0887\"],[0.1111111111111111,\"#46039f\"],[0.2222222222222222,\"#7201a8\"],[0.3333333333333333,\"#9c179e\"],[0.4444444444444444,\"#bd3786\"],[0.5555555555555556,\"#d8576b\"],[0.6666666666666666,\"#ed7953\"],[0.7777777777777778,\"#fb9f3a\"],[0.8888888888888888,\"#fdca26\"],[1.0,\"#f0f921\"]],\"type\":\"surface\"}],\"table\":[{\"cells\":{\"fill\":{\"color\":\"#EBF0F8\"},\"line\":{\"color\":\"white\"}},\"header\":{\"fill\":{\"color\":\"#C8D4E3\"},\"line\":{\"color\":\"white\"}},\"type\":\"table\"}]},\"layout\":{\"annotationdefaults\":{\"arrowcolor\":\"#2a3f5f\",\"arrowhead\":0,\"arrowwidth\":1},\"autotypenumbers\":\"strict\",\"coloraxis\":{\"colorbar\":{\"outlinewidth\":0,\"ticks\":\"\"}},\"colorscale\":{\"diverging\":[[0,\"#8e0152\"],[0.1,\"#c51b7d\"],[0.2,\"#de77ae\"],[0.3,\"#f1b6da\"],[0.4,\"#fde0ef\"],[0.5,\"#f7f7f7\"],[0.6,\"#e6f5d0\"],[0.7,\"#b8e186\"],[0.8,\"#7fbc41\"],[0.9,\"#4d9221\"],[1,\"#276419\"]],\"sequential\":[[0.0,\"#0d0887\"],[0.1111111111111111,\"#46039f\"],[0.2222222222222222,\"#7201a8\"],[0.3333333333333333,\"#9c179e\"],[0.4444444444444444,\"#bd3786\"],[0.5555555555555556,\"#d8576b\"],[0.6666666666666666,\"#ed7953\"],[0.7777777777777778,\"#fb9f3a\"],[0.8888888888888888,\"#fdca26\"],[1.0,\"#f0f921\"]],\"sequentialminus\":[[0.0,\"#0d0887\"],[0.1111111111111111,\"#46039f\"],[0.2222222222222222,\"#7201a8\"],[0.3333333333333333,\"#9c179e\"],[0.4444444444444444,\"#bd3786\"],[0.5555555555555556,\"#d8576b\"],[0.6666666666666666,\"#ed7953\"],[0.7777777777777778,\"#fb9f3a\"],[0.8888888888888888,\"#fdca26\"],[1.0,\"#f0f921\"]]},\"colorway\":[\"#636efa\",\"#EF553B\",\"#00cc96\",\"#ab63fa\",\"#FFA15A\",\"#19d3f3\",\"#FF6692\",\"#B6E880\",\"#FF97FF\",\"#FECB52\"],\"font\":{\"color\":\"#2a3f5f\"},\"geo\":{\"bgcolor\":\"white\",\"lakecolor\":\"white\",\"landcolor\":\"#E5ECF6\",\"showlakes\":true,\"showland\":true,\"subunitcolor\":\"white\"},\"hoverlabel\":{\"align\":\"left\"},\"hovermode\":\"closest\",\"mapbox\":{\"style\":\"light\"},\"paper_bgcolor\":\"white\",\"plot_bgcolor\":\"#E5ECF6\",\"polar\":{\"angularaxis\":{\"gridcolor\":\"white\",\"linecolor\":\"white\",\"ticks\":\"\"},\"bgcolor\":\"#E5ECF6\",\"radialaxis\":{\"gridcolor\":\"white\",\"linecolor\":\"white\",\"ticks\":\"\"}},\"scene\":{\"xaxis\":{\"backgroundcolor\":\"#E5ECF6\",\"gridcolor\":\"white\",\"gridwidth\":2,\"linecolor\":\"white\",\"showbackground\":true,\"ticks\":\"\",\"zerolinecolor\":\"white\"},\"yaxis\":{\"backgroundcolor\":\"#E5ECF6\",\"gridcolor\":\"white\",\"gridwidth\":2,\"linecolor\":\"white\",\"showbackground\":true,\"ticks\":\"\",\"zerolinecolor\":\"white\"},\"zaxis\":{\"backgroundcolor\":\"#E5ECF6\",\"gridcolor\":\"white\",\"gridwidth\":2,\"linecolor\":\"white\",\"showbackground\":true,\"ticks\":\"\",\"zerolinecolor\":\"white\"}},\"shapedefaults\":{\"line\":{\"color\":\"#2a3f5f\"}},\"ternary\":{\"aaxis\":{\"gridcolor\":\"white\",\"linecolor\":\"white\",\"ticks\":\"\"},\"baxis\":{\"gridcolor\":\"white\",\"linecolor\":\"white\",\"ticks\":\"\"},\"bgcolor\":\"#E5ECF6\",\"caxis\":{\"gridcolor\":\"white\",\"linecolor\":\"white\",\"ticks\":\"\"}},\"title\":{\"x\":0.05},\"xaxis\":{\"automargin\":true,\"gridcolor\":\"white\",\"linecolor\":\"white\",\"ticks\":\"\",\"title\":{\"standoff\":15},\"zerolinecolor\":\"white\",\"zerolinewidth\":2},\"yaxis\":{\"automargin\":true,\"gridcolor\":\"white\",\"linecolor\":\"white\",\"ticks\":\"\",\"title\":{\"standoff\":15},\"zerolinecolor\":\"white\",\"zerolinewidth\":2}}},\"xaxis\":{\"anchor\":\"y\",\"domain\":[0.0,0.45]},\"yaxis\":{\"anchor\":\"x\",\"domain\":[0.0,1.0],\"zeroline\":true,\"zerolinewidth\":1,\"zerolinecolor\":\"gray\",\"ticksuffix\":\"%\",\"tickmode\":\"array\",\"range\":[0,90],\"dtick\":5},\"annotations\":[{\"font\":{\"size\":16},\"showarrow\":false,\"text\":\"Jenis Hotel\",\"x\":0.775,\"xanchor\":\"center\",\"xref\":\"paper\",\"y\":1.0,\"yanchor\":\"bottom\",\"yref\":\"paper\"}],\"title\":{\"text\":\"Hotel Canceled and type of hotel\"},\"font\":{\"color\":\"#28221D\"},\"paper_bgcolor\":\"#F4F2F0\",\"plot_bgcolor\":\"#F4F2F0\"},                        {\"responsive\": true}                    ).then(function(){\n",
       "                            \n",
       "var gd = document.getElementById('169f5422-1c4b-4e4d-809f-509645c020c6');\n",
       "var x = new MutationObserver(function (mutations, observer) {{\n",
       "        var display = window.getComputedStyle(gd).display;\n",
       "        if (!display || display === 'none') {{\n",
       "            console.log([gd, 'removed!']);\n",
       "            Plotly.purge(gd);\n",
       "            observer.disconnect();\n",
       "        }}\n",
       "}});\n",
       "\n",
       "// Listen for the removal of the full notebook cells\n",
       "var notebookContainer = gd.closest('#notebook-container');\n",
       "if (notebookContainer) {{\n",
       "    x.observe(notebookContainer, {childList: true});\n",
       "}}\n",
       "\n",
       "// Listen for the clearing of the current output cell\n",
       "var outputEl = gd.closest('.output');\n",
       "if (outputEl) {{\n",
       "    x.observe(outputEl, {childList: true});\n",
       "}}\n",
       "\n",
       "                        })                };                });            </script>        </div>"
      ]
     },
     "metadata": {},
     "output_type": "display_data"
    }
   ],
   "source": [
    "fig=make_subplots(rows=1, cols=2, \n",
    "                  subplot_titles=(\"\", \"Jenis Hotel\"),\n",
    "                  specs=[[{\"type\": \"bar\"}, {\"type\": \"pie\"}]])\n",
    "\n",
    "plot_df=df['is_canceled'].value_counts(normalize=True)\n",
    "plot_df=plot_df.mul(100).rename('Percent').reset_index().sort_values('Percent')\n",
    "plot_df.rename(columns={'index':'is_canceled'}, inplace=True)\n",
    "plot_df['is_canceled']=['No Canceled' if i == '0' else 'Canceled' for i in plot_df['is_canceled']]\n",
    "x=plot_df['is_canceled']\n",
    "y=plot_df['Percent']\n",
    "fig.add_trace(\n",
    "    go.Bar(x=x, y=y, text=y,opacity=.8,\n",
    "           hovertemplate='is_canceled<br>%{x}: %{y:.3}%<extra></extra>',\n",
    "           showlegend=False), row=1, col=1)\n",
    "fig.update_traces(texttemplate='%{text:.3s}%', textposition='outside', \n",
    "                  marker_line=dict(width=1, color='#1F0202'), marker_color=['#C02B34','#CDBBA7'])\n",
    "fig.update_yaxes(zeroline=True, zerolinewidth=1, zerolinecolor='gray')\n",
    "fig.update_layout(yaxis_ticksuffix = '%')\n",
    "\n",
    "# Pie chart\n",
    "plot_df2=df\n",
    "plot_df2=plot_df2['hotel'].value_counts(normalize=True)\n",
    "plot_df2=plot_df2.mul(100).rename('Percent').reset_index().sort_values('Percent', ascending=False)\n",
    "plot_df2.rename(columns={'index':'hotel'}, inplace=True)\n",
    "fig.add_trace(go.Pie(labels=plot_df2['hotel'], values=plot_df2['Percent'], opacity=0.85, hole=0.4,\n",
    "                     hovertemplate='%{label}<br>hotel: %{value:.3}%<extra></extra>',\n",
    "                     marker_colors=['#587D65','#ADC4B2','#D1C9C2']), row=1, col=2)\n",
    "fig.update_yaxes(tickmode = 'array', range=[0, 90], dtick=5)\n",
    "fig.update_traces(textfont_size=14,textfont_color='black',marker=dict(line=dict(color='#28221D', width=1)))\n",
    "fig.update_layout(title_text=\"Hotel Canceled and type of hotel\", font_color='#28221D',\n",
    "                  paper_bgcolor='#F4F2F0', plot_bgcolor='#F4F2F0')      \n",
    "fig.show()"
   ]
  },
  {
   "cell_type": "markdown",
   "id": "585f5435",
   "metadata": {},
   "source": [
    "kita dapat mengetahui bahwa `City Hotel` memiliki persentase lebih banyak daripada `Resort Hotel`"
   ]
  },
  {
   "cell_type": "code",
   "execution_count": 25,
   "id": "b9fef325",
   "metadata": {},
   "outputs": [],
   "source": [
    "plot_df1 = df.groupby(['hotel'])['arrival_date_month'].value_counts(normalize=True)\n"
   ]
  },
  {
   "cell_type": "code",
   "execution_count": 26,
   "id": "0ca5a25e",
   "metadata": {},
   "outputs": [
    {
     "data": {
      "application/vnd.plotly.v1+json": {
       "config": {
        "plotlyServerURL": "https://plot.ly"
       },
       "data": [
        {
         "alignmentgroup": "True",
         "hovertemplate": "hotel=City Hotel<br>arrival_date_month=%{x}<br>Count=%{text}<br>is_canceled=%{marker.color}<extra></extra>",
         "legendgroup": "",
         "marker": {
          "color": [
           0,
           1,
           0,
           1,
           0,
           1,
           0,
           1,
           0,
           1,
           0,
           1,
           0,
           1,
           0,
           1,
           0,
           1,
           0,
           1,
           0,
           1,
           0,
           1
          ],
          "coloraxis": "coloraxis",
          "line": {
           "color": "#28221D",
           "width": 1
          },
          "opacity": 0.75,
          "pattern": {
           "shape": ""
          }
         },
         "name": "",
         "offsetgroup": "",
         "orientation": "v",
         "showlegend": false,
         "text": [
          3051,
          1899,
          4358,
          3527,
          4326,
          3268,
          2377,
          1737,
          2676,
          1660,
          4568,
          3653,
          4010,
          3459,
          2249,
          1481,
          4049,
          2385,
          4283,
          3109,
          5367,
          3600,
          4770,
          3301
         ],
         "textposition": "outside",
         "texttemplate": "%{text:.3s}%",
         "type": "bar",
         "width": 0.4,
         "x": [
          "April",
          "April",
          "August",
          "August",
          "December",
          "December",
          "February",
          "February",
          "January",
          "January",
          "July",
          "July",
          "June",
          "June",
          "March",
          "March",
          "May",
          "May",
          "November",
          "November",
          "October",
          "October",
          "September",
          "September"
         ],
         "xaxis": "x",
         "y": [
          3051,
          1899,
          4358,
          3527,
          4326,
          3268,
          2377,
          1737,
          2676,
          1660,
          4568,
          3653,
          4010,
          3459,
          2249,
          1481,
          4049,
          2385,
          4283,
          3109,
          5367,
          3600,
          4770,
          3301
         ],
         "yaxis": "y"
        },
        {
         "alignmentgroup": "True",
         "hovertemplate": "hotel=Resort Hotel<br>arrival_date_month=%{x}<br>Count=%{text}<br>is_canceled=%{marker.color}<extra></extra>",
         "legendgroup": "",
         "marker": {
          "color": [
           0,
           1,
           0,
           1,
           0,
           1,
           0,
           1,
           0,
           1,
           0,
           1,
           0,
           1,
           0,
           1,
           0,
           1,
           0,
           1,
           0,
           1,
           0,
           1
          ],
          "coloraxis": "coloraxis",
          "line": {
           "color": "#28221D",
           "width": 1
          },
          "opacity": 0.75,
          "pattern": {
           "shape": ""
          }
         },
         "name": "",
         "offsetgroup": "",
         "orientation": "v",
         "showlegend": false,
         "text": [
          2308,
          794,
          2037,
          1007,
          2575,
          978,
          2014,
          631,
          1975,
          460,
          2535,
          1024,
          2550,
          1059,
          1866,
          325,
          2571,
          763,
          2102,
          1006,
          3257,
          1637,
          3137,
          1436
         ],
         "textposition": "outside",
         "texttemplate": "%{text:.3s}%",
         "type": "bar",
         "width": 0.4,
         "x": [
          "April",
          "April",
          "August",
          "August",
          "December",
          "December",
          "February",
          "February",
          "January",
          "January",
          "July",
          "July",
          "June",
          "June",
          "March",
          "March",
          "May",
          "May",
          "November",
          "November",
          "October",
          "October",
          "September",
          "September"
         ],
         "xaxis": "x2",
         "y": [
          2308,
          794,
          2037,
          1007,
          2575,
          978,
          2014,
          631,
          1975,
          460,
          2535,
          1024,
          2550,
          1059,
          1866,
          325,
          2571,
          763,
          2102,
          1006,
          3257,
          1637,
          3137,
          1436
         ],
         "yaxis": "y2"
        }
       ],
       "layout": {
        "annotations": [
         {
          "font": {},
          "showarrow": false,
          "text": "hotel=City Hotel",
          "x": 0.245,
          "xanchor": "center",
          "xref": "paper",
          "y": 1,
          "yanchor": "bottom",
          "yref": "paper"
         },
         {
          "font": {},
          "showarrow": false,
          "text": "hotel=Resort Hotel",
          "x": 0.755,
          "xanchor": "center",
          "xref": "paper",
          "y": 1,
          "yanchor": "bottom",
          "yref": "paper"
         }
        ],
        "barmode": "group",
        "coloraxis": {
         "colorbar": {
          "title": {
           "text": "is_canceled"
          }
         },
         "colorscale": [
          [
           0,
           "#0d0887"
          ],
          [
           0.1111111111111111,
           "#46039f"
          ],
          [
           0.2222222222222222,
           "#7201a8"
          ],
          [
           0.3333333333333333,
           "#9c179e"
          ],
          [
           0.4444444444444444,
           "#bd3786"
          ],
          [
           0.5555555555555556,
           "#d8576b"
          ],
          [
           0.6666666666666666,
           "#ed7953"
          ],
          [
           0.7777777777777778,
           "#fb9f3a"
          ],
          [
           0.8888888888888888,
           "#fdca26"
          ],
          [
           1,
           "#f0f921"
          ]
         ]
        },
        "font": {
         "color": "#28221D"
        },
        "height": 500,
        "legend": {
         "tracegroupgap": 0
        },
        "margin": {
         "t": 60
        },
        "paper_bgcolor": "#F4F2F0",
        "plot_bgcolor": "#F4F2F0",
        "template": {
         "data": {
          "bar": [
           {
            "error_x": {
             "color": "#2a3f5f"
            },
            "error_y": {
             "color": "#2a3f5f"
            },
            "marker": {
             "line": {
              "color": "#E5ECF6",
              "width": 0.5
             },
             "pattern": {
              "fillmode": "overlay",
              "size": 10,
              "solidity": 0.2
             }
            },
            "type": "bar"
           }
          ],
          "barpolar": [
           {
            "marker": {
             "line": {
              "color": "#E5ECF6",
              "width": 0.5
             },
             "pattern": {
              "fillmode": "overlay",
              "size": 10,
              "solidity": 0.2
             }
            },
            "type": "barpolar"
           }
          ],
          "carpet": [
           {
            "aaxis": {
             "endlinecolor": "#2a3f5f",
             "gridcolor": "white",
             "linecolor": "white",
             "minorgridcolor": "white",
             "startlinecolor": "#2a3f5f"
            },
            "baxis": {
             "endlinecolor": "#2a3f5f",
             "gridcolor": "white",
             "linecolor": "white",
             "minorgridcolor": "white",
             "startlinecolor": "#2a3f5f"
            },
            "type": "carpet"
           }
          ],
          "choropleth": [
           {
            "colorbar": {
             "outlinewidth": 0,
             "ticks": ""
            },
            "type": "choropleth"
           }
          ],
          "contour": [
           {
            "colorbar": {
             "outlinewidth": 0,
             "ticks": ""
            },
            "colorscale": [
             [
              0,
              "#0d0887"
             ],
             [
              0.1111111111111111,
              "#46039f"
             ],
             [
              0.2222222222222222,
              "#7201a8"
             ],
             [
              0.3333333333333333,
              "#9c179e"
             ],
             [
              0.4444444444444444,
              "#bd3786"
             ],
             [
              0.5555555555555556,
              "#d8576b"
             ],
             [
              0.6666666666666666,
              "#ed7953"
             ],
             [
              0.7777777777777778,
              "#fb9f3a"
             ],
             [
              0.8888888888888888,
              "#fdca26"
             ],
             [
              1,
              "#f0f921"
             ]
            ],
            "type": "contour"
           }
          ],
          "contourcarpet": [
           {
            "colorbar": {
             "outlinewidth": 0,
             "ticks": ""
            },
            "type": "contourcarpet"
           }
          ],
          "heatmap": [
           {
            "colorbar": {
             "outlinewidth": 0,
             "ticks": ""
            },
            "colorscale": [
             [
              0,
              "#0d0887"
             ],
             [
              0.1111111111111111,
              "#46039f"
             ],
             [
              0.2222222222222222,
              "#7201a8"
             ],
             [
              0.3333333333333333,
              "#9c179e"
             ],
             [
              0.4444444444444444,
              "#bd3786"
             ],
             [
              0.5555555555555556,
              "#d8576b"
             ],
             [
              0.6666666666666666,
              "#ed7953"
             ],
             [
              0.7777777777777778,
              "#fb9f3a"
             ],
             [
              0.8888888888888888,
              "#fdca26"
             ],
             [
              1,
              "#f0f921"
             ]
            ],
            "type": "heatmap"
           }
          ],
          "heatmapgl": [
           {
            "colorbar": {
             "outlinewidth": 0,
             "ticks": ""
            },
            "colorscale": [
             [
              0,
              "#0d0887"
             ],
             [
              0.1111111111111111,
              "#46039f"
             ],
             [
              0.2222222222222222,
              "#7201a8"
             ],
             [
              0.3333333333333333,
              "#9c179e"
             ],
             [
              0.4444444444444444,
              "#bd3786"
             ],
             [
              0.5555555555555556,
              "#d8576b"
             ],
             [
              0.6666666666666666,
              "#ed7953"
             ],
             [
              0.7777777777777778,
              "#fb9f3a"
             ],
             [
              0.8888888888888888,
              "#fdca26"
             ],
             [
              1,
              "#f0f921"
             ]
            ],
            "type": "heatmapgl"
           }
          ],
          "histogram": [
           {
            "marker": {
             "pattern": {
              "fillmode": "overlay",
              "size": 10,
              "solidity": 0.2
             }
            },
            "type": "histogram"
           }
          ],
          "histogram2d": [
           {
            "colorbar": {
             "outlinewidth": 0,
             "ticks": ""
            },
            "colorscale": [
             [
              0,
              "#0d0887"
             ],
             [
              0.1111111111111111,
              "#46039f"
             ],
             [
              0.2222222222222222,
              "#7201a8"
             ],
             [
              0.3333333333333333,
              "#9c179e"
             ],
             [
              0.4444444444444444,
              "#bd3786"
             ],
             [
              0.5555555555555556,
              "#d8576b"
             ],
             [
              0.6666666666666666,
              "#ed7953"
             ],
             [
              0.7777777777777778,
              "#fb9f3a"
             ],
             [
              0.8888888888888888,
              "#fdca26"
             ],
             [
              1,
              "#f0f921"
             ]
            ],
            "type": "histogram2d"
           }
          ],
          "histogram2dcontour": [
           {
            "colorbar": {
             "outlinewidth": 0,
             "ticks": ""
            },
            "colorscale": [
             [
              0,
              "#0d0887"
             ],
             [
              0.1111111111111111,
              "#46039f"
             ],
             [
              0.2222222222222222,
              "#7201a8"
             ],
             [
              0.3333333333333333,
              "#9c179e"
             ],
             [
              0.4444444444444444,
              "#bd3786"
             ],
             [
              0.5555555555555556,
              "#d8576b"
             ],
             [
              0.6666666666666666,
              "#ed7953"
             ],
             [
              0.7777777777777778,
              "#fb9f3a"
             ],
             [
              0.8888888888888888,
              "#fdca26"
             ],
             [
              1,
              "#f0f921"
             ]
            ],
            "type": "histogram2dcontour"
           }
          ],
          "mesh3d": [
           {
            "colorbar": {
             "outlinewidth": 0,
             "ticks": ""
            },
            "type": "mesh3d"
           }
          ],
          "parcoords": [
           {
            "line": {
             "colorbar": {
              "outlinewidth": 0,
              "ticks": ""
             }
            },
            "type": "parcoords"
           }
          ],
          "pie": [
           {
            "automargin": true,
            "type": "pie"
           }
          ],
          "scatter": [
           {
            "marker": {
             "colorbar": {
              "outlinewidth": 0,
              "ticks": ""
             }
            },
            "type": "scatter"
           }
          ],
          "scatter3d": [
           {
            "line": {
             "colorbar": {
              "outlinewidth": 0,
              "ticks": ""
             }
            },
            "marker": {
             "colorbar": {
              "outlinewidth": 0,
              "ticks": ""
             }
            },
            "type": "scatter3d"
           }
          ],
          "scattercarpet": [
           {
            "marker": {
             "colorbar": {
              "outlinewidth": 0,
              "ticks": ""
             }
            },
            "type": "scattercarpet"
           }
          ],
          "scattergeo": [
           {
            "marker": {
             "colorbar": {
              "outlinewidth": 0,
              "ticks": ""
             }
            },
            "type": "scattergeo"
           }
          ],
          "scattergl": [
           {
            "marker": {
             "colorbar": {
              "outlinewidth": 0,
              "ticks": ""
             }
            },
            "type": "scattergl"
           }
          ],
          "scattermapbox": [
           {
            "marker": {
             "colorbar": {
              "outlinewidth": 0,
              "ticks": ""
             }
            },
            "type": "scattermapbox"
           }
          ],
          "scatterpolar": [
           {
            "marker": {
             "colorbar": {
              "outlinewidth": 0,
              "ticks": ""
             }
            },
            "type": "scatterpolar"
           }
          ],
          "scatterpolargl": [
           {
            "marker": {
             "colorbar": {
              "outlinewidth": 0,
              "ticks": ""
             }
            },
            "type": "scatterpolargl"
           }
          ],
          "scatterternary": [
           {
            "marker": {
             "colorbar": {
              "outlinewidth": 0,
              "ticks": ""
             }
            },
            "type": "scatterternary"
           }
          ],
          "surface": [
           {
            "colorbar": {
             "outlinewidth": 0,
             "ticks": ""
            },
            "colorscale": [
             [
              0,
              "#0d0887"
             ],
             [
              0.1111111111111111,
              "#46039f"
             ],
             [
              0.2222222222222222,
              "#7201a8"
             ],
             [
              0.3333333333333333,
              "#9c179e"
             ],
             [
              0.4444444444444444,
              "#bd3786"
             ],
             [
              0.5555555555555556,
              "#d8576b"
             ],
             [
              0.6666666666666666,
              "#ed7953"
             ],
             [
              0.7777777777777778,
              "#fb9f3a"
             ],
             [
              0.8888888888888888,
              "#fdca26"
             ],
             [
              1,
              "#f0f921"
             ]
            ],
            "type": "surface"
           }
          ],
          "table": [
           {
            "cells": {
             "fill": {
              "color": "#EBF0F8"
             },
             "line": {
              "color": "white"
             }
            },
            "header": {
             "fill": {
              "color": "#C8D4E3"
             },
             "line": {
              "color": "white"
             }
            },
            "type": "table"
           }
          ]
         },
         "layout": {
          "annotationdefaults": {
           "arrowcolor": "#2a3f5f",
           "arrowhead": 0,
           "arrowwidth": 1
          },
          "autotypenumbers": "strict",
          "coloraxis": {
           "colorbar": {
            "outlinewidth": 0,
            "ticks": ""
           }
          },
          "colorscale": {
           "diverging": [
            [
             0,
             "#8e0152"
            ],
            [
             0.1,
             "#c51b7d"
            ],
            [
             0.2,
             "#de77ae"
            ],
            [
             0.3,
             "#f1b6da"
            ],
            [
             0.4,
             "#fde0ef"
            ],
            [
             0.5,
             "#f7f7f7"
            ],
            [
             0.6,
             "#e6f5d0"
            ],
            [
             0.7,
             "#b8e186"
            ],
            [
             0.8,
             "#7fbc41"
            ],
            [
             0.9,
             "#4d9221"
            ],
            [
             1,
             "#276419"
            ]
           ],
           "sequential": [
            [
             0,
             "#0d0887"
            ],
            [
             0.1111111111111111,
             "#46039f"
            ],
            [
             0.2222222222222222,
             "#7201a8"
            ],
            [
             0.3333333333333333,
             "#9c179e"
            ],
            [
             0.4444444444444444,
             "#bd3786"
            ],
            [
             0.5555555555555556,
             "#d8576b"
            ],
            [
             0.6666666666666666,
             "#ed7953"
            ],
            [
             0.7777777777777778,
             "#fb9f3a"
            ],
            [
             0.8888888888888888,
             "#fdca26"
            ],
            [
             1,
             "#f0f921"
            ]
           ],
           "sequentialminus": [
            [
             0,
             "#0d0887"
            ],
            [
             0.1111111111111111,
             "#46039f"
            ],
            [
             0.2222222222222222,
             "#7201a8"
            ],
            [
             0.3333333333333333,
             "#9c179e"
            ],
            [
             0.4444444444444444,
             "#bd3786"
            ],
            [
             0.5555555555555556,
             "#d8576b"
            ],
            [
             0.6666666666666666,
             "#ed7953"
            ],
            [
             0.7777777777777778,
             "#fb9f3a"
            ],
            [
             0.8888888888888888,
             "#fdca26"
            ],
            [
             1,
             "#f0f921"
            ]
           ]
          },
          "colorway": [
           "#636efa",
           "#EF553B",
           "#00cc96",
           "#ab63fa",
           "#FFA15A",
           "#19d3f3",
           "#FF6692",
           "#B6E880",
           "#FF97FF",
           "#FECB52"
          ],
          "font": {
           "color": "#2a3f5f"
          },
          "geo": {
           "bgcolor": "white",
           "lakecolor": "white",
           "landcolor": "#E5ECF6",
           "showlakes": true,
           "showland": true,
           "subunitcolor": "white"
          },
          "hoverlabel": {
           "align": "left"
          },
          "hovermode": "closest",
          "mapbox": {
           "style": "light"
          },
          "paper_bgcolor": "white",
          "plot_bgcolor": "#E5ECF6",
          "polar": {
           "angularaxis": {
            "gridcolor": "white",
            "linecolor": "white",
            "ticks": ""
           },
           "bgcolor": "#E5ECF6",
           "radialaxis": {
            "gridcolor": "white",
            "linecolor": "white",
            "ticks": ""
           }
          },
          "scene": {
           "xaxis": {
            "backgroundcolor": "#E5ECF6",
            "gridcolor": "white",
            "gridwidth": 2,
            "linecolor": "white",
            "showbackground": true,
            "ticks": "",
            "zerolinecolor": "white"
           },
           "yaxis": {
            "backgroundcolor": "#E5ECF6",
            "gridcolor": "white",
            "gridwidth": 2,
            "linecolor": "white",
            "showbackground": true,
            "ticks": "",
            "zerolinecolor": "white"
           },
           "zaxis": {
            "backgroundcolor": "#E5ECF6",
            "gridcolor": "white",
            "gridwidth": 2,
            "linecolor": "white",
            "showbackground": true,
            "ticks": "",
            "zerolinecolor": "white"
           }
          },
          "shapedefaults": {
           "line": {
            "color": "#2a3f5f"
           }
          },
          "ternary": {
           "aaxis": {
            "gridcolor": "white",
            "linecolor": "white",
            "ticks": ""
           },
           "baxis": {
            "gridcolor": "white",
            "linecolor": "white",
            "ticks": ""
           },
           "bgcolor": "#E5ECF6",
           "caxis": {
            "gridcolor": "white",
            "linecolor": "white",
            "ticks": ""
           }
          },
          "title": {
           "x": 0.05
          },
          "xaxis": {
           "automargin": true,
           "gridcolor": "white",
           "linecolor": "white",
           "ticks": "",
           "title": {
            "standoff": 15
           },
           "zerolinecolor": "white",
           "zerolinewidth": 2
          },
          "yaxis": {
           "automargin": true,
           "gridcolor": "white",
           "linecolor": "white",
           "ticks": "",
           "title": {
            "standoff": 15
           },
           "zerolinecolor": "white",
           "zerolinewidth": 2
          }
         }
        },
        "title": {
         "text": "Perbandingan Jumlah Cancel Hotel perbulan"
        },
        "xaxis": {
         "anchor": "y",
         "domain": [
          0,
          0.49
         ],
         "tickangle": 30,
         "title": {
          "text": "arrival_date_month"
         }
        },
        "xaxis2": {
         "anchor": "y2",
         "domain": [
          0.51,
          1
         ],
         "matches": "x",
         "showticklabels": true,
         "tickangle": 30,
         "title": {
          "text": "arrival_date_month"
         }
        },
        "yaxis": {
         "anchor": "x",
         "domain": [
          0,
          1
         ],
         "ticksuffix": "",
         "title": {
          "text": ""
         },
         "zeroline": true,
         "zerolinecolor": "#28221D",
         "zerolinewidth": 1
        },
        "yaxis2": {
         "anchor": "x2",
         "domain": [
          0,
          1
         ],
         "matches": "y",
         "showticklabels": false,
         "title": {
          "text": ""
         },
         "zeroline": true,
         "zerolinecolor": "#28221D",
         "zerolinewidth": 1
        }
       }
      },
      "text/html": [
       "<div>                            <div id=\"72c2b5cf-8e3e-467c-846f-4b89f589770b\" class=\"plotly-graph-div\" style=\"height:500px; width:100%;\"></div>            <script type=\"text/javascript\">                require([\"plotly\"], function(Plotly) {                    window.PLOTLYENV=window.PLOTLYENV || {};                                    if (document.getElementById(\"72c2b5cf-8e3e-467c-846f-4b89f589770b\")) {                    Plotly.newPlot(                        \"72c2b5cf-8e3e-467c-846f-4b89f589770b\",                        [{\"alignmentgroup\":\"True\",\"hovertemplate\":\"hotel=City Hotel<br>arrival_date_month=%{x}<br>Count=%{text}<br>is_canceled=%{marker.color}<extra></extra>\",\"legendgroup\":\"\",\"marker\":{\"color\":[0,1,0,1,0,1,0,1,0,1,0,1,0,1,0,1,0,1,0,1,0,1,0,1],\"coloraxis\":\"coloraxis\",\"opacity\":0.75,\"pattern\":{\"shape\":\"\"},\"line\":{\"color\":\"#28221D\",\"width\":1}},\"name\":\"\",\"offsetgroup\":\"\",\"orientation\":\"v\",\"showlegend\":false,\"text\":[3051.0,1899.0,4358.0,3527.0,4326.0,3268.0,2377.0,1737.0,2676.0,1660.0,4568.0,3653.0,4010.0,3459.0,2249.0,1481.0,4049.0,2385.0,4283.0,3109.0,5367.0,3600.0,4770.0,3301.0],\"textposition\":\"outside\",\"x\":[\"April\",\"April\",\"August\",\"August\",\"December\",\"December\",\"February\",\"February\",\"January\",\"January\",\"July\",\"July\",\"June\",\"June\",\"March\",\"March\",\"May\",\"May\",\"November\",\"November\",\"October\",\"October\",\"September\",\"September\"],\"xaxis\":\"x\",\"y\":[3051,1899,4358,3527,4326,3268,2377,1737,2676,1660,4568,3653,4010,3459,2249,1481,4049,2385,4283,3109,5367,3600,4770,3301],\"yaxis\":\"y\",\"type\":\"bar\",\"texttemplate\":\"%{text:.3s}%\",\"width\":0.4},{\"alignmentgroup\":\"True\",\"hovertemplate\":\"hotel=Resort Hotel<br>arrival_date_month=%{x}<br>Count=%{text}<br>is_canceled=%{marker.color}<extra></extra>\",\"legendgroup\":\"\",\"marker\":{\"color\":[0,1,0,1,0,1,0,1,0,1,0,1,0,1,0,1,0,1,0,1,0,1,0,1],\"coloraxis\":\"coloraxis\",\"opacity\":0.75,\"pattern\":{\"shape\":\"\"},\"line\":{\"color\":\"#28221D\",\"width\":1}},\"name\":\"\",\"offsetgroup\":\"\",\"orientation\":\"v\",\"showlegend\":false,\"text\":[2308.0,794.0,2037.0,1007.0,2575.0,978.0,2014.0,631.0,1975.0,460.0,2535.0,1024.0,2550.0,1059.0,1866.0,325.0,2571.0,763.0,2102.0,1006.0,3257.0,1637.0,3137.0,1436.0],\"textposition\":\"outside\",\"x\":[\"April\",\"April\",\"August\",\"August\",\"December\",\"December\",\"February\",\"February\",\"January\",\"January\",\"July\",\"July\",\"June\",\"June\",\"March\",\"March\",\"May\",\"May\",\"November\",\"November\",\"October\",\"October\",\"September\",\"September\"],\"xaxis\":\"x2\",\"y\":[2308,794,2037,1007,2575,978,2014,631,1975,460,2535,1024,2550,1059,1866,325,2571,763,2102,1006,3257,1637,3137,1436],\"yaxis\":\"y2\",\"type\":\"bar\",\"texttemplate\":\"%{text:.3s}%\",\"width\":0.4}],                        {\"template\":{\"data\":{\"bar\":[{\"error_x\":{\"color\":\"#2a3f5f\"},\"error_y\":{\"color\":\"#2a3f5f\"},\"marker\":{\"line\":{\"color\":\"#E5ECF6\",\"width\":0.5},\"pattern\":{\"fillmode\":\"overlay\",\"size\":10,\"solidity\":0.2}},\"type\":\"bar\"}],\"barpolar\":[{\"marker\":{\"line\":{\"color\":\"#E5ECF6\",\"width\":0.5},\"pattern\":{\"fillmode\":\"overlay\",\"size\":10,\"solidity\":0.2}},\"type\":\"barpolar\"}],\"carpet\":[{\"aaxis\":{\"endlinecolor\":\"#2a3f5f\",\"gridcolor\":\"white\",\"linecolor\":\"white\",\"minorgridcolor\":\"white\",\"startlinecolor\":\"#2a3f5f\"},\"baxis\":{\"endlinecolor\":\"#2a3f5f\",\"gridcolor\":\"white\",\"linecolor\":\"white\",\"minorgridcolor\":\"white\",\"startlinecolor\":\"#2a3f5f\"},\"type\":\"carpet\"}],\"choropleth\":[{\"colorbar\":{\"outlinewidth\":0,\"ticks\":\"\"},\"type\":\"choropleth\"}],\"contour\":[{\"colorbar\":{\"outlinewidth\":0,\"ticks\":\"\"},\"colorscale\":[[0.0,\"#0d0887\"],[0.1111111111111111,\"#46039f\"],[0.2222222222222222,\"#7201a8\"],[0.3333333333333333,\"#9c179e\"],[0.4444444444444444,\"#bd3786\"],[0.5555555555555556,\"#d8576b\"],[0.6666666666666666,\"#ed7953\"],[0.7777777777777778,\"#fb9f3a\"],[0.8888888888888888,\"#fdca26\"],[1.0,\"#f0f921\"]],\"type\":\"contour\"}],\"contourcarpet\":[{\"colorbar\":{\"outlinewidth\":0,\"ticks\":\"\"},\"type\":\"contourcarpet\"}],\"heatmap\":[{\"colorbar\":{\"outlinewidth\":0,\"ticks\":\"\"},\"colorscale\":[[0.0,\"#0d0887\"],[0.1111111111111111,\"#46039f\"],[0.2222222222222222,\"#7201a8\"],[0.3333333333333333,\"#9c179e\"],[0.4444444444444444,\"#bd3786\"],[0.5555555555555556,\"#d8576b\"],[0.6666666666666666,\"#ed7953\"],[0.7777777777777778,\"#fb9f3a\"],[0.8888888888888888,\"#fdca26\"],[1.0,\"#f0f921\"]],\"type\":\"heatmap\"}],\"heatmapgl\":[{\"colorbar\":{\"outlinewidth\":0,\"ticks\":\"\"},\"colorscale\":[[0.0,\"#0d0887\"],[0.1111111111111111,\"#46039f\"],[0.2222222222222222,\"#7201a8\"],[0.3333333333333333,\"#9c179e\"],[0.4444444444444444,\"#bd3786\"],[0.5555555555555556,\"#d8576b\"],[0.6666666666666666,\"#ed7953\"],[0.7777777777777778,\"#fb9f3a\"],[0.8888888888888888,\"#fdca26\"],[1.0,\"#f0f921\"]],\"type\":\"heatmapgl\"}],\"histogram\":[{\"marker\":{\"pattern\":{\"fillmode\":\"overlay\",\"size\":10,\"solidity\":0.2}},\"type\":\"histogram\"}],\"histogram2d\":[{\"colorbar\":{\"outlinewidth\":0,\"ticks\":\"\"},\"colorscale\":[[0.0,\"#0d0887\"],[0.1111111111111111,\"#46039f\"],[0.2222222222222222,\"#7201a8\"],[0.3333333333333333,\"#9c179e\"],[0.4444444444444444,\"#bd3786\"],[0.5555555555555556,\"#d8576b\"],[0.6666666666666666,\"#ed7953\"],[0.7777777777777778,\"#fb9f3a\"],[0.8888888888888888,\"#fdca26\"],[1.0,\"#f0f921\"]],\"type\":\"histogram2d\"}],\"histogram2dcontour\":[{\"colorbar\":{\"outlinewidth\":0,\"ticks\":\"\"},\"colorscale\":[[0.0,\"#0d0887\"],[0.1111111111111111,\"#46039f\"],[0.2222222222222222,\"#7201a8\"],[0.3333333333333333,\"#9c179e\"],[0.4444444444444444,\"#bd3786\"],[0.5555555555555556,\"#d8576b\"],[0.6666666666666666,\"#ed7953\"],[0.7777777777777778,\"#fb9f3a\"],[0.8888888888888888,\"#fdca26\"],[1.0,\"#f0f921\"]],\"type\":\"histogram2dcontour\"}],\"mesh3d\":[{\"colorbar\":{\"outlinewidth\":0,\"ticks\":\"\"},\"type\":\"mesh3d\"}],\"parcoords\":[{\"line\":{\"colorbar\":{\"outlinewidth\":0,\"ticks\":\"\"}},\"type\":\"parcoords\"}],\"pie\":[{\"automargin\":true,\"type\":\"pie\"}],\"scatter\":[{\"marker\":{\"colorbar\":{\"outlinewidth\":0,\"ticks\":\"\"}},\"type\":\"scatter\"}],\"scatter3d\":[{\"line\":{\"colorbar\":{\"outlinewidth\":0,\"ticks\":\"\"}},\"marker\":{\"colorbar\":{\"outlinewidth\":0,\"ticks\":\"\"}},\"type\":\"scatter3d\"}],\"scattercarpet\":[{\"marker\":{\"colorbar\":{\"outlinewidth\":0,\"ticks\":\"\"}},\"type\":\"scattercarpet\"}],\"scattergeo\":[{\"marker\":{\"colorbar\":{\"outlinewidth\":0,\"ticks\":\"\"}},\"type\":\"scattergeo\"}],\"scattergl\":[{\"marker\":{\"colorbar\":{\"outlinewidth\":0,\"ticks\":\"\"}},\"type\":\"scattergl\"}],\"scattermapbox\":[{\"marker\":{\"colorbar\":{\"outlinewidth\":0,\"ticks\":\"\"}},\"type\":\"scattermapbox\"}],\"scatterpolar\":[{\"marker\":{\"colorbar\":{\"outlinewidth\":0,\"ticks\":\"\"}},\"type\":\"scatterpolar\"}],\"scatterpolargl\":[{\"marker\":{\"colorbar\":{\"outlinewidth\":0,\"ticks\":\"\"}},\"type\":\"scatterpolargl\"}],\"scatterternary\":[{\"marker\":{\"colorbar\":{\"outlinewidth\":0,\"ticks\":\"\"}},\"type\":\"scatterternary\"}],\"surface\":[{\"colorbar\":{\"outlinewidth\":0,\"ticks\":\"\"},\"colorscale\":[[0.0,\"#0d0887\"],[0.1111111111111111,\"#46039f\"],[0.2222222222222222,\"#7201a8\"],[0.3333333333333333,\"#9c179e\"],[0.4444444444444444,\"#bd3786\"],[0.5555555555555556,\"#d8576b\"],[0.6666666666666666,\"#ed7953\"],[0.7777777777777778,\"#fb9f3a\"],[0.8888888888888888,\"#fdca26\"],[1.0,\"#f0f921\"]],\"type\":\"surface\"}],\"table\":[{\"cells\":{\"fill\":{\"color\":\"#EBF0F8\"},\"line\":{\"color\":\"white\"}},\"header\":{\"fill\":{\"color\":\"#C8D4E3\"},\"line\":{\"color\":\"white\"}},\"type\":\"table\"}]},\"layout\":{\"annotationdefaults\":{\"arrowcolor\":\"#2a3f5f\",\"arrowhead\":0,\"arrowwidth\":1},\"autotypenumbers\":\"strict\",\"coloraxis\":{\"colorbar\":{\"outlinewidth\":0,\"ticks\":\"\"}},\"colorscale\":{\"diverging\":[[0,\"#8e0152\"],[0.1,\"#c51b7d\"],[0.2,\"#de77ae\"],[0.3,\"#f1b6da\"],[0.4,\"#fde0ef\"],[0.5,\"#f7f7f7\"],[0.6,\"#e6f5d0\"],[0.7,\"#b8e186\"],[0.8,\"#7fbc41\"],[0.9,\"#4d9221\"],[1,\"#276419\"]],\"sequential\":[[0.0,\"#0d0887\"],[0.1111111111111111,\"#46039f\"],[0.2222222222222222,\"#7201a8\"],[0.3333333333333333,\"#9c179e\"],[0.4444444444444444,\"#bd3786\"],[0.5555555555555556,\"#d8576b\"],[0.6666666666666666,\"#ed7953\"],[0.7777777777777778,\"#fb9f3a\"],[0.8888888888888888,\"#fdca26\"],[1.0,\"#f0f921\"]],\"sequentialminus\":[[0.0,\"#0d0887\"],[0.1111111111111111,\"#46039f\"],[0.2222222222222222,\"#7201a8\"],[0.3333333333333333,\"#9c179e\"],[0.4444444444444444,\"#bd3786\"],[0.5555555555555556,\"#d8576b\"],[0.6666666666666666,\"#ed7953\"],[0.7777777777777778,\"#fb9f3a\"],[0.8888888888888888,\"#fdca26\"],[1.0,\"#f0f921\"]]},\"colorway\":[\"#636efa\",\"#EF553B\",\"#00cc96\",\"#ab63fa\",\"#FFA15A\",\"#19d3f3\",\"#FF6692\",\"#B6E880\",\"#FF97FF\",\"#FECB52\"],\"font\":{\"color\":\"#2a3f5f\"},\"geo\":{\"bgcolor\":\"white\",\"lakecolor\":\"white\",\"landcolor\":\"#E5ECF6\",\"showlakes\":true,\"showland\":true,\"subunitcolor\":\"white\"},\"hoverlabel\":{\"align\":\"left\"},\"hovermode\":\"closest\",\"mapbox\":{\"style\":\"light\"},\"paper_bgcolor\":\"white\",\"plot_bgcolor\":\"#E5ECF6\",\"polar\":{\"angularaxis\":{\"gridcolor\":\"white\",\"linecolor\":\"white\",\"ticks\":\"\"},\"bgcolor\":\"#E5ECF6\",\"radialaxis\":{\"gridcolor\":\"white\",\"linecolor\":\"white\",\"ticks\":\"\"}},\"scene\":{\"xaxis\":{\"backgroundcolor\":\"#E5ECF6\",\"gridcolor\":\"white\",\"gridwidth\":2,\"linecolor\":\"white\",\"showbackground\":true,\"ticks\":\"\",\"zerolinecolor\":\"white\"},\"yaxis\":{\"backgroundcolor\":\"#E5ECF6\",\"gridcolor\":\"white\",\"gridwidth\":2,\"linecolor\":\"white\",\"showbackground\":true,\"ticks\":\"\",\"zerolinecolor\":\"white\"},\"zaxis\":{\"backgroundcolor\":\"#E5ECF6\",\"gridcolor\":\"white\",\"gridwidth\":2,\"linecolor\":\"white\",\"showbackground\":true,\"ticks\":\"\",\"zerolinecolor\":\"white\"}},\"shapedefaults\":{\"line\":{\"color\":\"#2a3f5f\"}},\"ternary\":{\"aaxis\":{\"gridcolor\":\"white\",\"linecolor\":\"white\",\"ticks\":\"\"},\"baxis\":{\"gridcolor\":\"white\",\"linecolor\":\"white\",\"ticks\":\"\"},\"bgcolor\":\"#E5ECF6\",\"caxis\":{\"gridcolor\":\"white\",\"linecolor\":\"white\",\"ticks\":\"\"}},\"title\":{\"x\":0.05},\"xaxis\":{\"automargin\":true,\"gridcolor\":\"white\",\"linecolor\":\"white\",\"ticks\":\"\",\"title\":{\"standoff\":15},\"zerolinecolor\":\"white\",\"zerolinewidth\":2},\"yaxis\":{\"automargin\":true,\"gridcolor\":\"white\",\"linecolor\":\"white\",\"ticks\":\"\",\"title\":{\"standoff\":15},\"zerolinecolor\":\"white\",\"zerolinewidth\":2}}},\"xaxis\":{\"anchor\":\"y\",\"domain\":[0.0,0.49],\"title\":{\"text\":\"arrival_date_month\"},\"tickangle\":30},\"yaxis\":{\"anchor\":\"x\",\"domain\":[0.0,1.0],\"title\":{\"text\":\"\"},\"ticksuffix\":\"\",\"zeroline\":true,\"zerolinewidth\":1,\"zerolinecolor\":\"#28221D\"},\"xaxis2\":{\"anchor\":\"y2\",\"domain\":[0.51,1.0],\"matches\":\"x\",\"title\":{\"text\":\"arrival_date_month\"},\"showticklabels\":true,\"tickangle\":30},\"yaxis2\":{\"anchor\":\"x2\",\"domain\":[0.0,1.0],\"matches\":\"y\",\"showticklabels\":false,\"title\":{\"text\":\"\"},\"zeroline\":true,\"zerolinewidth\":1,\"zerolinecolor\":\"#28221D\"},\"annotations\":[{\"font\":{},\"showarrow\":false,\"text\":\"hotel=City Hotel\",\"x\":0.245,\"xanchor\":\"center\",\"xref\":\"paper\",\"y\":1.0,\"yanchor\":\"bottom\",\"yref\":\"paper\"},{\"font\":{},\"showarrow\":false,\"text\":\"hotel=Resort Hotel\",\"x\":0.755,\"xanchor\":\"center\",\"xref\":\"paper\",\"y\":1.0,\"yanchor\":\"bottom\",\"yref\":\"paper\"}],\"coloraxis\":{\"colorbar\":{\"title\":{\"text\":\"is_canceled\"}},\"colorscale\":[[0.0,\"#0d0887\"],[0.1111111111111111,\"#46039f\"],[0.2222222222222222,\"#7201a8\"],[0.3333333333333333,\"#9c179e\"],[0.4444444444444444,\"#bd3786\"],[0.5555555555555556,\"#d8576b\"],[0.6666666666666666,\"#ed7953\"],[0.7777777777777778,\"#fb9f3a\"],[0.8888888888888888,\"#fdca26\"],[1.0,\"#f0f921\"]]},\"legend\":{\"tracegroupgap\":0},\"margin\":{\"t\":60},\"barmode\":\"group\",\"title\":{\"text\":\"Perbandingan Jumlah Cancel Hotel perbulan\"},\"font\":{\"color\":\"#28221D\"},\"paper_bgcolor\":\"#F4F2F0\",\"plot_bgcolor\":\"#F4F2F0\",\"height\":500},                        {\"responsive\": true}                    ).then(function(){\n",
       "                            \n",
       "var gd = document.getElementById('72c2b5cf-8e3e-467c-846f-4b89f589770b');\n",
       "var x = new MutationObserver(function (mutations, observer) {{\n",
       "        var display = window.getComputedStyle(gd).display;\n",
       "        if (!display || display === 'none') {{\n",
       "            console.log([gd, 'removed!']);\n",
       "            Plotly.purge(gd);\n",
       "            observer.disconnect();\n",
       "        }}\n",
       "}});\n",
       "\n",
       "// Listen for the removal of the full notebook cells\n",
       "var notebookContainer = gd.closest('#notebook-container');\n",
       "if (notebookContainer) {{\n",
       "    x.observe(notebookContainer, {childList: true});\n",
       "}}\n",
       "\n",
       "// Listen for the clearing of the current output cell\n",
       "var outputEl = gd.closest('.output');\n",
       "if (outputEl) {{\n",
       "    x.observe(outputEl, {childList: true});\n",
       "}}\n",
       "\n",
       "                        })                };                });            </script>        </div>"
      ]
     },
     "metadata": {},
     "output_type": "display_data"
    }
   ],
   "source": [
    "#plot_df = df.groupby(['arrival_date_month', 'hotel'])['is_canceled'].value_counts()\n",
    "#plot_df = plot_df.mul(100).rename('Percent').reset_index()\n",
    "#fig = px.bar(plot_df, x='arrival_date_month', y='count' ,color='hotel', barmode='group')\n",
    "\n",
    "# Jumlah Cancel Order di setiap bulannya\n",
    "plot_df = df.groupby(['arrival_date_month', 'hotel'])['is_canceled'].value_counts()\n",
    "plot_df = plot_df.mul(1).rename('Count').reset_index()\n",
    "fig = px.bar(plot_df, x=\"arrival_date_month\", y=\"Count\", color=\"is_canceled\", barmode=\"group\",\n",
    "            text='Count', opacity=.75,facet_col=\"hotel\", category_orders={'is_canceled': ['0', '1']},\n",
    "            color_discrete_map={'0': '#C02B34','1': '#CDBBA7'}) \n",
    "fig.update_traces(texttemplate='%{text:.3s}%', textposition='outside',\n",
    "                  marker_line=dict(width=1, color='#28221D'),  width=.4)\n",
    "fig.update_layout(title_text='Perbandingan Jumlah Cancel Hotel perbulan', yaxis_ticksuffix = '',\n",
    "                  paper_bgcolor='#F4F2F0', plot_bgcolor='#F4F2F0',font_color='#28221D',\n",
    "                  height=500, xaxis=dict(tickangle=30))\n",
    "fig.update_xaxes(showticklabels=True,tickangle=30,col=2)\n",
    "fig.update_yaxes(title = \"\", zeroline=True, zerolinewidth=1, zerolinecolor='#28221D')\n",
    "fig.show()"
   ]
  },
  {
   "attachments": {},
   "cell_type": "markdown",
   "id": "fe95aafa",
   "metadata": {},
   "source": [
    "### Next analisis"
   ]
  },
  {
   "cell_type": "code",
   "execution_count": 27,
   "id": "427a5d0d",
   "metadata": {},
   "outputs": [
    {
     "data": {
      "text/plain": [
       "<Axes: title={'center': 'Top 5 City'}>"
      ]
     },
     "execution_count": 27,
     "metadata": {},
     "output_type": "execute_result"
    },
    {
     "data": {
      "image/png": "[encoded data removed]",
      "text/plain": [
       "<Figure size 1080x720 with 1 Axes>"
      ]
     },
     "metadata": {
      "needs_background": "light"
     },
     "output_type": "display_data"
    }
   ],
   "source": [
    "# from dataprep.clean import clean_country\n",
    "fig, ax = plt.subplots(figsize = (15,10))\n",
    "ax.set_title('Top 5 City')\n",
    "fig.show()\n",
    "top_five = df.city.value_counts()[0:5]\n",
    "# cleaned = clean_country(top_ten.reset_index(),'index')[['country','index_clean']]\n",
    "sns.barplot(x=top_five.index, y=top_five.values)"
   ]
  },
  {
   "attachments": {},
   "cell_type": "markdown",
   "id": "18114e4c",
   "metadata": {},
   "source": [
    "Kota Denpasar merupakan tujuan destinasi wisata favorit bagi wisatawan, sedangkan Kabupaten Bangka dan Kota Yogyakarta merupakan destinasi favorit setelah kota Denpasar "
   ]
  },
  {
   "cell_type": "code",
   "execution_count": 127,
   "id": "f1c55282",
   "metadata": {},
   "outputs": [],
   "source": [
    "# Total waktu menginap pengunjung\n",
    "df['Jumlah_Waktu_menginap']= df['stays_in_weekdays_nights']+ df['stays_in_weekend_nights']\n",
    "df_menginap = df.copy()"
   ]
  },
  {
   "cell_type": "code",
   "execution_count": 128,
   "id": "8712512a",
   "metadata": {},
   "outputs": [
    {
     "data": {
      "text/plain": [
       "count    119210.000000\n",
       "mean          3.426248\n",
       "std           2.540692\n",
       "min           0.000000\n",
       "25%           2.000000\n",
       "50%           3.000000\n",
       "75%           4.000000\n",
       "max          69.000000\n",
       "Name: Jumlah_Waktu_menginap, dtype: float64"
      ]
     },
     "execution_count": 128,
     "metadata": {},
     "output_type": "execute_result"
    }
   ],
   "source": [
    "df_menginap['Jumlah_Waktu_menginap'].describe()"
   ]
  },
  {
   "cell_type": "code",
   "execution_count": 129,
   "id": "c5f1f101",
   "metadata": {},
   "outputs": [
    {
     "name": "stdout",
     "output_type": "stream",
     "text": [
      "2     27632\n",
      "3     27064\n",
      "1     21005\n",
      "4     17373\n",
      "7      8648\n",
      "5      7771\n",
      "6      3846\n",
      "8      1155\n",
      "10     1135\n",
      "14      913\n",
      "9       840\n",
      "0       645\n",
      "11      393\n",
      "15      274\n",
      "12      220\n",
      "21      155\n",
      "13      141\n",
      "Name: durasi_menginap_group, dtype: int64\n"
     ]
    }
   ],
   "source": [
    "# Membuat kolom baru 'durasi_menginap_group'\n",
    "df_menginap['durasi_menginap_group'] = np.where(df_menginap['Jumlah_Waktu_menginap'] > 21, 21, \n",
    "                                       np.where(df_menginap['Jumlah_Waktu_menginap'] > 14, 15, df_menginap['Jumlah_Waktu_menginap']))\n",
    "\n",
    "# Menampilkan frekuensi dari setiap kelompok durasi menginap\n",
    "print(df_menginap['durasi_menginap_group'].value_counts())"
   ]
  },
  {
   "cell_type": "code",
   "execution_count": 152,
   "id": "77e43930",
   "metadata": {},
   "outputs": [
    {
     "data": {
      "text/html": [
       "<div>\n",
       "<style scoped>\n",
       "    .dataframe tbody tr th:only-of-type {\n",
       "        vertical-align: middle;\n",
       "    }\n",
       "\n",
       "    .dataframe tbody tr th {\n",
       "        vertical-align: top;\n",
       "    }\n",
       "\n",
       "    .dataframe thead th {\n",
       "        text-align: right;\n",
       "    }\n",
       "</style>\n",
       "<table border=\"1\" class=\"dataframe\">\n",
       "  <thead>\n",
       "    <tr style=\"text-align: right;\">\n",
       "      <th></th>\n",
       "      <th>hotel</th>\n",
       "      <th>is_canceled</th>\n",
       "      <th>lead_time</th>\n",
       "      <th>arrival_date_year</th>\n",
       "      <th>arrival_date_month</th>\n",
       "      <th>arrival_date_week_number</th>\n",
       "      <th>arrival_date_day_of_month</th>\n",
       "      <th>stays_in_weekend_nights</th>\n",
       "      <th>stays_in_weekdays_nights</th>\n",
       "      <th>adults</th>\n",
       "      <th>...</th>\n",
       "      <th>deposit_type</th>\n",
       "      <th>agent</th>\n",
       "      <th>days_in_waiting_list</th>\n",
       "      <th>customer_type</th>\n",
       "      <th>adr</th>\n",
       "      <th>required_car_parking_spaces</th>\n",
       "      <th>total_of_special_requests</th>\n",
       "      <th>reservation_status</th>\n",
       "      <th>Jumlah_Waktu_menginap</th>\n",
       "      <th>durasi_menginap_group</th>\n",
       "    </tr>\n",
       "  </thead>\n",
       "  <tbody>\n",
       "    <tr>\n",
       "      <th>0</th>\n",
       "      <td>Resort Hotel</td>\n",
       "      <td>0</td>\n",
       "      <td>342</td>\n",
       "      <td>2017</td>\n",
       "      <td>September</td>\n",
       "      <td>27</td>\n",
       "      <td>1</td>\n",
       "      <td>0</td>\n",
       "      <td>0</td>\n",
       "      <td>2</td>\n",
       "      <td>...</td>\n",
       "      <td>No Deposit</td>\n",
       "      <td>0.0</td>\n",
       "      <td>0</td>\n",
       "      <td>Personal</td>\n",
       "      <td>0.0</td>\n",
       "      <td>0</td>\n",
       "      <td>0</td>\n",
       "      <td>Check-Out</td>\n",
       "      <td>0</td>\n",
       "      <td>0</td>\n",
       "    </tr>\n",
       "    <tr>\n",
       "      <th>1</th>\n",
       "      <td>Resort Hotel</td>\n",
       "      <td>0</td>\n",
       "      <td>737</td>\n",
       "      <td>2017</td>\n",
       "      <td>September</td>\n",
       "      <td>27</td>\n",
       "      <td>1</td>\n",
       "      <td>0</td>\n",
       "      <td>0</td>\n",
       "      <td>2</td>\n",
       "      <td>...</td>\n",
       "      <td>No Deposit</td>\n",
       "      <td>0.0</td>\n",
       "      <td>0</td>\n",
       "      <td>Personal</td>\n",
       "      <td>0.0</td>\n",
       "      <td>0</td>\n",
       "      <td>0</td>\n",
       "      <td>Check-Out</td>\n",
       "      <td>0</td>\n",
       "      <td>0</td>\n",
       "    </tr>\n",
       "    <tr>\n",
       "      <th>2</th>\n",
       "      <td>Resort Hotel</td>\n",
       "      <td>0</td>\n",
       "      <td>7</td>\n",
       "      <td>2017</td>\n",
       "      <td>September</td>\n",
       "      <td>27</td>\n",
       "      <td>1</td>\n",
       "      <td>0</td>\n",
       "      <td>1</td>\n",
       "      <td>1</td>\n",
       "      <td>...</td>\n",
       "      <td>No Deposit</td>\n",
       "      <td>0.0</td>\n",
       "      <td>0</td>\n",
       "      <td>Personal</td>\n",
       "      <td>75.0</td>\n",
       "      <td>0</td>\n",
       "      <td>0</td>\n",
       "      <td>Check-Out</td>\n",
       "      <td>1</td>\n",
       "      <td>1</td>\n",
       "    </tr>\n",
       "    <tr>\n",
       "      <th>3</th>\n",
       "      <td>Resort Hotel</td>\n",
       "      <td>0</td>\n",
       "      <td>13</td>\n",
       "      <td>2017</td>\n",
       "      <td>September</td>\n",
       "      <td>27</td>\n",
       "      <td>1</td>\n",
       "      <td>0</td>\n",
       "      <td>1</td>\n",
       "      <td>1</td>\n",
       "      <td>...</td>\n",
       "      <td>No Deposit</td>\n",
       "      <td>304.0</td>\n",
       "      <td>0</td>\n",
       "      <td>Personal</td>\n",
       "      <td>75.0</td>\n",
       "      <td>0</td>\n",
       "      <td>0</td>\n",
       "      <td>Check-Out</td>\n",
       "      <td>1</td>\n",
       "      <td>1</td>\n",
       "    </tr>\n",
       "    <tr>\n",
       "      <th>4</th>\n",
       "      <td>Resort Hotel</td>\n",
       "      <td>0</td>\n",
       "      <td>14</td>\n",
       "      <td>2017</td>\n",
       "      <td>September</td>\n",
       "      <td>27</td>\n",
       "      <td>1</td>\n",
       "      <td>0</td>\n",
       "      <td>2</td>\n",
       "      <td>2</td>\n",
       "      <td>...</td>\n",
       "      <td>No Deposit</td>\n",
       "      <td>240.0</td>\n",
       "      <td>0</td>\n",
       "      <td>Personal</td>\n",
       "      <td>98.0</td>\n",
       "      <td>0</td>\n",
       "      <td>1</td>\n",
       "      <td>Check-Out</td>\n",
       "      <td>2</td>\n",
       "      <td>2</td>\n",
       "    </tr>\n",
       "  </tbody>\n",
       "</table>\n",
       "<p>5 rows × 30 columns</p>\n",
       "</div>"
      ],
      "text/plain": [
       "          hotel  is_canceled  lead_time  arrival_date_year arrival_date_month  \\\n",
       "0  Resort Hotel            0        342               2017          September   \n",
       "1  Resort Hotel            0        737               2017          September   \n",
       "2  Resort Hotel            0          7               2017          September   \n",
       "3  Resort Hotel            0         13               2017          September   \n",
       "4  Resort Hotel            0         14               2017          September   \n",
       "\n",
       "   arrival_date_week_number  arrival_date_day_of_month  \\\n",
       "0                        27                          1   \n",
       "1                        27                          1   \n",
       "2                        27                          1   \n",
       "3                        27                          1   \n",
       "4                        27                          1   \n",
       "\n",
       "   stays_in_weekend_nights  stays_in_weekdays_nights  adults  ...  \\\n",
       "0                        0                         0       2  ...   \n",
       "1                        0                         0       2  ...   \n",
       "2                        0                         1       1  ...   \n",
       "3                        0                         1       1  ...   \n",
       "4                        0                         2       2  ...   \n",
       "\n",
       "   deposit_type  agent days_in_waiting_list customer_type   adr  \\\n",
       "0    No Deposit    0.0                    0      Personal   0.0   \n",
       "1    No Deposit    0.0                    0      Personal   0.0   \n",
       "2    No Deposit    0.0                    0      Personal  75.0   \n",
       "3    No Deposit  304.0                    0      Personal  75.0   \n",
       "4    No Deposit  240.0                    0      Personal  98.0   \n",
       "\n",
       "  required_car_parking_spaces  total_of_special_requests  reservation_status  \\\n",
       "0                           0                          0           Check-Out   \n",
       "1                           0                          0           Check-Out   \n",
       "2                           0                          0           Check-Out   \n",
       "3                           0                          0           Check-Out   \n",
       "4                           0                          1           Check-Out   \n",
       "\n",
       "   Jumlah_Waktu_menginap  durasi_menginap_group  \n",
       "0                      0                      0  \n",
       "1                      0                      0  \n",
       "2                      1                      1  \n",
       "3                      1                      1  \n",
       "4                      2                      2  \n",
       "\n",
       "[5 rows x 30 columns]"
      ]
     },
     "execution_count": 152,
     "metadata": {},
     "output_type": "execute_result"
    }
   ],
   "source": [
    "df_menginap.head()"
   ]
  },
  {
   "cell_type": "code",
   "execution_count": 131,
   "id": "491d7f2f",
   "metadata": {},
   "outputs": [],
   "source": [
    "# Agregat Perbandingan jumlah pesanan hotel yang dibatalkan terhadap durasi menginap untuk setiap jenis hotel\n",
    "#df_agg = df.groupby(['hotel','durasi_menginap_group'])['is_canceled'].value_counts().reset_index(name='count_booking')"
   ]
  },
  {
   "cell_type": "code",
   "execution_count": 132,
   "id": "3113176e",
   "metadata": {},
   "outputs": [],
   "source": [
    "#df_agg"
   ]
  },
  {
   "cell_type": "code",
   "execution_count": 148,
   "id": "593e6b0a",
   "metadata": {},
   "outputs": [
    {
     "data": {
      "text/html": [
       "<div>\n",
       "<style scoped>\n",
       "    .dataframe tbody tr th:only-of-type {\n",
       "        vertical-align: middle;\n",
       "    }\n",
       "\n",
       "    .dataframe tbody tr th {\n",
       "        vertical-align: top;\n",
       "    }\n",
       "\n",
       "    .dataframe thead th {\n",
       "        text-align: right;\n",
       "    }\n",
       "</style>\n",
       "<table border=\"1\" class=\"dataframe\">\n",
       "  <thead>\n",
       "    <tr style=\"text-align: right;\">\n",
       "      <th></th>\n",
       "      <th>hotel</th>\n",
       "      <th>is_canceled</th>\n",
       "      <th>durasi_menginap_group</th>\n",
       "      <th>count_booking</th>\n",
       "    </tr>\n",
       "  </thead>\n",
       "  <tbody>\n",
       "    <tr>\n",
       "      <th>0</th>\n",
       "      <td>City Hotel</td>\n",
       "      <td>0</td>\n",
       "      <td>0</td>\n",
       "      <td>251</td>\n",
       "    </tr>\n",
       "    <tr>\n",
       "      <th>1</th>\n",
       "      <td>City Hotel</td>\n",
       "      <td>0</td>\n",
       "      <td>1</td>\n",
       "      <td>9155</td>\n",
       "    </tr>\n",
       "    <tr>\n",
       "      <th>2</th>\n",
       "      <td>City Hotel</td>\n",
       "      <td>0</td>\n",
       "      <td>2</td>\n",
       "      <td>10983</td>\n",
       "    </tr>\n",
       "    <tr>\n",
       "      <th>3</th>\n",
       "      <td>City Hotel</td>\n",
       "      <td>0</td>\n",
       "      <td>3</td>\n",
       "      <td>11889</td>\n",
       "    </tr>\n",
       "    <tr>\n",
       "      <th>4</th>\n",
       "      <td>City Hotel</td>\n",
       "      <td>0</td>\n",
       "      <td>4</td>\n",
       "      <td>7694</td>\n",
       "    </tr>\n",
       "  </tbody>\n",
       "</table>\n",
       "</div>"
      ],
      "text/plain": [
       "        hotel  is_canceled  durasi_menginap_group  count_booking\n",
       "0  City Hotel            0                      0            251\n",
       "1  City Hotel            0                      1           9155\n",
       "2  City Hotel            0                      2          10983\n",
       "3  City Hotel            0                      3          11889\n",
       "4  City Hotel            0                      4           7694"
      ]
     },
     "execution_count": 148,
     "metadata": {},
     "output_type": "execute_result"
    }
   ],
   "source": [
    "df_agg = df_menginap.groupby(['hotel', 'is_canceled', 'durasi_menginap_group'])['arrival_date_month'].count().reset_index(name='count_booking')\n",
    "df_agg.head()"
   ]
  },
  {
   "cell_type": "code",
   "execution_count": 149,
   "id": "b0e0372a",
   "metadata": {},
   "outputs": [
    {
     "data": {
      "text/html": [
       "<div>\n",
       "<style scoped>\n",
       "    .dataframe tbody tr th:only-of-type {\n",
       "        vertical-align: middle;\n",
       "    }\n",
       "\n",
       "    .dataframe tbody tr th {\n",
       "        vertical-align: top;\n",
       "    }\n",
       "\n",
       "    .dataframe thead th {\n",
       "        text-align: right;\n",
       "    }\n",
       "</style>\n",
       "<table border=\"1\" class=\"dataframe\">\n",
       "  <thead>\n",
       "    <tr style=\"text-align: right;\">\n",
       "      <th>is_canceled</th>\n",
       "      <th>hotel</th>\n",
       "      <th>durasi_menginap_group</th>\n",
       "      <th>0</th>\n",
       "      <th>1</th>\n",
       "    </tr>\n",
       "  </thead>\n",
       "  <tbody>\n",
       "    <tr>\n",
       "      <th>0</th>\n",
       "      <td>City Hotel</td>\n",
       "      <td>0</td>\n",
       "      <td>251</td>\n",
       "      <td>13</td>\n",
       "    </tr>\n",
       "    <tr>\n",
       "      <th>1</th>\n",
       "      <td>City Hotel</td>\n",
       "      <td>1</td>\n",
       "      <td>9155</td>\n",
       "      <td>4103</td>\n",
       "    </tr>\n",
       "    <tr>\n",
       "      <th>2</th>\n",
       "      <td>City Hotel</td>\n",
       "      <td>2</td>\n",
       "      <td>10983</td>\n",
       "      <td>10432</td>\n",
       "    </tr>\n",
       "    <tr>\n",
       "      <th>3</th>\n",
       "      <td>City Hotel</td>\n",
       "      <td>3</td>\n",
       "      <td>11889</td>\n",
       "      <td>9482</td>\n",
       "    </tr>\n",
       "    <tr>\n",
       "      <th>4</th>\n",
       "      <td>City Hotel</td>\n",
       "      <td>4</td>\n",
       "      <td>7694</td>\n",
       "      <td>4853</td>\n",
       "    </tr>\n",
       "  </tbody>\n",
       "</table>\n",
       "</div>"
      ],
      "text/plain": [
       "is_canceled       hotel  durasi_menginap_group      0      1\n",
       "0            City Hotel                      0    251     13\n",
       "1            City Hotel                      1   9155   4103\n",
       "2            City Hotel                      2  10983  10432\n",
       "3            City Hotel                      3  11889   9482\n",
       "4            City Hotel                      4   7694   4853"
      ]
     },
     "execution_count": 149,
     "metadata": {},
     "output_type": "execute_result"
    }
   ],
   "source": [
    "df1_agg = df_agg.pivot_table(index=['hotel', 'durasi_menginap_group'], columns='is_canceled', values='count_booking').reset_index()\n",
    "df1_agg.head()"
   ]
  },
  {
   "cell_type": "code",
   "execution_count": 150,
   "id": "d23af675",
   "metadata": {},
   "outputs": [
    {
     "data": {
      "text/html": [
       "<div>\n",
       "<style scoped>\n",
       "    .dataframe tbody tr th:only-of-type {\n",
       "        vertical-align: middle;\n",
       "    }\n",
       "\n",
       "    .dataframe tbody tr th {\n",
       "        vertical-align: top;\n",
       "    }\n",
       "\n",
       "    .dataframe thead th {\n",
       "        text-align: right;\n",
       "    }\n",
       "</style>\n",
       "<table border=\"1\" class=\"dataframe\">\n",
       "  <thead>\n",
       "    <tr style=\"text-align: right;\">\n",
       "      <th>is_canceled</th>\n",
       "      <th>hotel</th>\n",
       "      <th>durasi_menginap_group</th>\n",
       "      <th>0</th>\n",
       "      <th>1</th>\n",
       "    </tr>\n",
       "  </thead>\n",
       "  <tbody>\n",
       "    <tr>\n",
       "      <th>0</th>\n",
       "      <td>City Hotel</td>\n",
       "      <td>0</td>\n",
       "      <td>251</td>\n",
       "      <td>13</td>\n",
       "    </tr>\n",
       "    <tr>\n",
       "      <th>1</th>\n",
       "      <td>City Hotel</td>\n",
       "      <td>1</td>\n",
       "      <td>9155</td>\n",
       "      <td>4103</td>\n",
       "    </tr>\n",
       "    <tr>\n",
       "      <th>2</th>\n",
       "      <td>City Hotel</td>\n",
       "      <td>2</td>\n",
       "      <td>10983</td>\n",
       "      <td>10432</td>\n",
       "    </tr>\n",
       "    <tr>\n",
       "      <th>3</th>\n",
       "      <td>City Hotel</td>\n",
       "      <td>3</td>\n",
       "      <td>11889</td>\n",
       "      <td>9482</td>\n",
       "    </tr>\n",
       "    <tr>\n",
       "      <th>4</th>\n",
       "      <td>City Hotel</td>\n",
       "      <td>4</td>\n",
       "      <td>7694</td>\n",
       "      <td>4853</td>\n",
       "    </tr>\n",
       "  </tbody>\n",
       "</table>\n",
       "</div>"
      ],
      "text/plain": [
       "is_canceled       hotel  durasi_menginap_group      0      1\n",
       "0            City Hotel                      0    251     13\n",
       "1            City Hotel                      1   9155   4103\n",
       "2            City Hotel                      2  10983  10432\n",
       "3            City Hotel                      3  11889   9482\n",
       "4            City Hotel                      4   7694   4853"
      ]
     },
     "execution_count": 150,
     "metadata": {},
     "output_type": "execute_result"
    }
   ],
   "source": [
    "df1_agg.head()"
   ]
  },
  {
   "cell_type": "code",
   "execution_count": 151,
   "id": "0c63d62c",
   "metadata": {},
   "outputs": [
    {
     "data": {
      "text/html": [
       "<div>\n",
       "<style scoped>\n",
       "    .dataframe tbody tr th:only-of-type {\n",
       "        vertical-align: middle;\n",
       "    }\n",
       "\n",
       "    .dataframe tbody tr th {\n",
       "        vertical-align: top;\n",
       "    }\n",
       "\n",
       "    .dataframe thead th {\n",
       "        text-align: right;\n",
       "    }\n",
       "</style>\n",
       "<table border=\"1\" class=\"dataframe\">\n",
       "  <thead>\n",
       "    <tr style=\"text-align: right;\">\n",
       "      <th>is_canceled</th>\n",
       "      <th>hotel</th>\n",
       "      <th>durasi_menginap_group</th>\n",
       "      <th>no_canceled</th>\n",
       "      <th>are_canceled</th>\n",
       "    </tr>\n",
       "  </thead>\n",
       "  <tbody>\n",
       "    <tr>\n",
       "      <th>0</th>\n",
       "      <td>City Hotel</td>\n",
       "      <td>0</td>\n",
       "      <td>251</td>\n",
       "      <td>13</td>\n",
       "    </tr>\n",
       "    <tr>\n",
       "      <th>1</th>\n",
       "      <td>City Hotel</td>\n",
       "      <td>1</td>\n",
       "      <td>9155</td>\n",
       "      <td>4103</td>\n",
       "    </tr>\n",
       "    <tr>\n",
       "      <th>2</th>\n",
       "      <td>City Hotel</td>\n",
       "      <td>2</td>\n",
       "      <td>10983</td>\n",
       "      <td>10432</td>\n",
       "    </tr>\n",
       "    <tr>\n",
       "      <th>3</th>\n",
       "      <td>City Hotel</td>\n",
       "      <td>3</td>\n",
       "      <td>11889</td>\n",
       "      <td>9482</td>\n",
       "    </tr>\n",
       "    <tr>\n",
       "      <th>4</th>\n",
       "      <td>City Hotel</td>\n",
       "      <td>4</td>\n",
       "      <td>7694</td>\n",
       "      <td>4853</td>\n",
       "    </tr>\n",
       "  </tbody>\n",
       "</table>\n",
       "</div>"
      ],
      "text/plain": [
       "is_canceled       hotel  durasi_menginap_group  no_canceled  are_canceled\n",
       "0            City Hotel                      0          251            13\n",
       "1            City Hotel                      1         9155          4103\n",
       "2            City Hotel                      2        10983         10432\n",
       "3            City Hotel                      3        11889          9482\n",
       "4            City Hotel                      4         7694          4853"
      ]
     },
     "execution_count": 151,
     "metadata": {},
     "output_type": "execute_result"
    }
   ],
   "source": [
    "#df1_agg.columns = ['is_canceled', 'hotel_type', 'durasi_menginap_group', 'no_canceled', 'are_canceled']\n",
    "df1_agg = df1_agg.rename(columns={0: 'no_canceled', 1: 'are_canceled'})\n",
    "df1_agg.head()"
   ]
  },
  {
   "cell_type": "code",
   "execution_count": 137,
   "id": "a6de37c7",
   "metadata": {},
   "outputs": [],
   "source": [
    "#df1_agg['bookings'] = df1_agg['no_canceled']+df1_agg['are_canceled']\n",
    "#df1_agg"
   ]
  },
  {
   "cell_type": "code",
   "execution_count": 138,
   "id": "42b77c92",
   "metadata": {},
   "outputs": [],
   "source": [
    "#df1_agg['count_canceled'] = df1_agg['are_canceled']*100.0/(df1_agg['bookings'])\n",
    "#df1_agg"
   ]
  },
  {
   "cell_type": "code",
   "execution_count": 139,
   "id": "51b90298",
   "metadata": {},
   "outputs": [
    {
     "data": {
      "text/html": [
       "<div>\n",
       "<style scoped>\n",
       "    .dataframe tbody tr th:only-of-type {\n",
       "        vertical-align: middle;\n",
       "    }\n",
       "\n",
       "    .dataframe tbody tr th {\n",
       "        vertical-align: top;\n",
       "    }\n",
       "\n",
       "    .dataframe thead th {\n",
       "        text-align: right;\n",
       "    }\n",
       "</style>\n",
       "<table border=\"1\" class=\"dataframe\">\n",
       "  <thead>\n",
       "    <tr style=\"text-align: right;\">\n",
       "      <th>is_canceled</th>\n",
       "      <th>hotel</th>\n",
       "      <th>durasi_menginap_group</th>\n",
       "      <th>no_canceled</th>\n",
       "      <th>are_canceled</th>\n",
       "      <th>count_canceled</th>\n",
       "    </tr>\n",
       "  </thead>\n",
       "  <tbody>\n",
       "    <tr>\n",
       "      <th>0</th>\n",
       "      <td>City Hotel</td>\n",
       "      <td>0</td>\n",
       "      <td>251</td>\n",
       "      <td>13</td>\n",
       "      <td>4.92</td>\n",
       "    </tr>\n",
       "    <tr>\n",
       "      <th>1</th>\n",
       "      <td>City Hotel</td>\n",
       "      <td>1</td>\n",
       "      <td>9155</td>\n",
       "      <td>4103</td>\n",
       "      <td>30.95</td>\n",
       "    </tr>\n",
       "    <tr>\n",
       "      <th>2</th>\n",
       "      <td>City Hotel</td>\n",
       "      <td>2</td>\n",
       "      <td>10983</td>\n",
       "      <td>10432</td>\n",
       "      <td>48.71</td>\n",
       "    </tr>\n",
       "    <tr>\n",
       "      <th>3</th>\n",
       "      <td>City Hotel</td>\n",
       "      <td>3</td>\n",
       "      <td>11889</td>\n",
       "      <td>9482</td>\n",
       "      <td>44.37</td>\n",
       "    </tr>\n",
       "    <tr>\n",
       "      <th>4</th>\n",
       "      <td>City Hotel</td>\n",
       "      <td>4</td>\n",
       "      <td>7694</td>\n",
       "      <td>4853</td>\n",
       "      <td>38.68</td>\n",
       "    </tr>\n",
       "  </tbody>\n",
       "</table>\n",
       "</div>"
      ],
      "text/plain": [
       "is_canceled       hotel  durasi_menginap_group  no_canceled  are_canceled  \\\n",
       "0            City Hotel                      0          251            13   \n",
       "1            City Hotel                      1         9155          4103   \n",
       "2            City Hotel                      2        10983         10432   \n",
       "3            City Hotel                      3        11889          9482   \n",
       "4            City Hotel                      4         7694          4853   \n",
       "\n",
       "is_canceled  count_canceled  \n",
       "0                      4.92  \n",
       "1                     30.95  \n",
       "2                     48.71  \n",
       "3                     44.37  \n",
       "4                     38.68  "
      ]
     },
     "execution_count": 139,
     "metadata": {},
     "output_type": "execute_result"
    }
   ],
   "source": [
    "df1_agg['count_canceled'] = round(df1_agg['are_canceled']*100.0/(df1_agg['no_canceled']+df1_agg['are_canceled']), 2)\n",
    "df1_agg.head()"
   ]
  },
  {
   "cell_type": "code",
   "execution_count": 140,
   "id": "1104ba2d",
   "metadata": {},
   "outputs": [
    {
     "data": {
      "image/png": "[encoded data removed]",
      "text/plain": [
       "<Figure size 1440x432 with 1 Axes>"
      ]
     },
     "metadata": {
      "needs_background": "light"
     },
     "output_type": "display_data"
    }
   ],
   "source": [
    "# rasio pembatalan pesanan terhadap durasi menginap untuk setiap tipe hotel\n",
    "# Reshape the data from the Series to a DataFrame\n",
    "df_agg = df_menginap.groupby(['hotel', 'is_canceled', 'durasi_menginap_group'])['arrival_date_month'].count().reset_index(name='count_booking')\n",
    "df1_agg = df_agg.pivot_table(index=['hotel', 'durasi_menginap_group'], columns='is_canceled', values='count_booking').reset_index()\n",
    "df1_agg.columns = ['hotel_type', 'durasi_menginap_group', 'no_canceled', 'are_canceled']\n",
    "df1_agg['bookings'] = df1_agg['no_canceled']+df1_agg['are_canceled']\n",
    "#df1_agg['count_canceled'] = df1_agg['are_canceled']*100.0/(df1_agg['bookings'])\n",
    "df1_agg['count_canceled'] = round(df1_agg['are_canceled']*100.0/(df1_agg['no_canceled']+df1_agg['are_canceled']), 2)\n",
    "\n",
    "\n",
    "# Plot the stacked bar chart\n",
    "fig, ax = plt.subplots(figsize=(20, 6))\n",
    "df_agg.plot(kind='bar', ax=ax)\n",
    "\n",
    "# Set the chart title and axis labels\n",
    "ax.set_title('Canceled Bookings by Hotel and Duration of Stay')\n",
    "ax.set_xlabel('Hotel and Duration of Stay')\n",
    "ax.set_ylabel('Number of Bookings')\n",
    "\n",
    "# Display the chart\n",
    "plt.show()"
   ]
  },
  {
   "cell_type": "code",
   "execution_count": 141,
   "id": "74b30822",
   "metadata": {},
   "outputs": [
    {
     "data": {
      "image/png": "[encoded data removed]",
      "text/plain": [
       "<Figure size 1080x720 with 1 Axes>"
      ]
     },
     "metadata": {
      "needs_background": "light"
     },
     "output_type": "display_data"
    }
   ],
   "source": [
    "plt.figure(figsize=(15,10))\n",
    "sns.regplot(x='durasi_menginap_group', y='count_canceled', data=df1_agg[df1_agg['hotel_type'] == 'City Hotel'], scatter=True)\n",
    "sns.regplot(x='durasi_menginap_group', y='count_canceled', data=df1_agg[df1_agg['hotel_type'] == 'Resort Hotel'], scatter=True)\n",
    "sns.barplot(x='durasi_menginap_group', y='count_canceled', hue='hotel_type', data=df1_agg, alpha=1)\n",
    "\n",
    "plt.tick_params(axis='both', which='major', labelsize=14) \n",
    "plt.grid()\n",
    "plt.legend(title='Hotel Type', title_fontsize=15, prop={'size':13}) \n",
    "\n",
    "plt.xlabel('Total Stay Booked', fontsize=15)  \n",
    "plt.ylabel('Canceled Booking (%)', fontsize=15) \n",
    "plt.ylim(0, 100) \n",
    "plt.xlim(0.5, 16.5) \n",
    "\n",
    "plt.text(x=0.5, y=105, s=\"Total Canceled\", \n",
    "         fontsize=20, fontweight='bold') \n",
    "\n",
    "plt.legend(loc=\"upper right\")\n",
    "plt.xticks(rotation=90);\n",
    "plt.tight_layout()"
   ]
  },
  {
   "attachments": {},
   "cell_type": "markdown",
   "id": "0cbc9a06",
   "metadata": {},
   "source": [
    "berdasarkan Grafik, kita dapat mengetahui canceled rate dari tiap jenis hotel dan lamanya waktu menginap. semakin lama waktu menginapnya, semakin tinggi pula canceled ratenya, baik itu di City Hotel maupun di Resort Hotel. akan tetapi canceled rate  City Hotel lebih besar daripada Resort Hotel. \n",
    "\n",
    "Dapat dilihat juga, jumlah pengunjung city hotel lebih banyak dibandingkan dengan Resrt Hotel, karena City Hotel lebih mudah dijangkau secara jarak dibandingkan dengan Resort Hotel. sehingga pengunjung lebih memilih untuk menempati City Hotel daripada Resrt Hotel. hall ini disebabkan juga karena modal transportasi untuk mencapai hotel tersebut. City Hotel lebih dapat dijangkau dengan kendaraan umum, sedangkan Resort Hotel memerlukan biaya tambahan untuk menyewa kendaraan ataupun membawa kendaraan pribadi."
   ]
  },
  {
   "attachments": {},
   "cell_type": "markdown",
   "id": "7b4a10b4",
   "metadata": {},
   "source": [
    "### Analisis Lead Time dan Canceled Rate"
   ]
  },
  {
   "cell_type": "code",
   "execution_count": 142,
   "id": "d49386e0",
   "metadata": {},
   "outputs": [],
   "source": [
    "df_next = df_menginap.copy()"
   ]
  },
  {
   "cell_type": "code",
   "execution_count": 144,
   "id": "c2ec4ea4",
   "metadata": {},
   "outputs": [
    {
     "data": {
      "text/plain": [
       "<Axes: xlabel='lead_time', ylabel='Count'>"
      ]
     },
     "execution_count": 144,
     "metadata": {},
     "output_type": "execute_result"
    },
    {
     "data": {
      "image/png": "[encoded data removed]",
      "text/plain": [
       "<Figure size 864x576 with 1 Axes>"
      ]
     },
     "metadata": {
      "needs_background": "light"
     },
     "output_type": "display_data"
    }
   ],
   "source": [
    "fig, ax1 = plt.subplots()\n",
    "fig.set_figheight(8)\n",
    "fig.set_figwidth(12)\n",
    "\n",
    "sns.histplot(data=df_next, x=\"lead_time\", binwidth=5, color=\"blue\")"
   ]
  },
  {
   "cell_type": "code",
   "execution_count": 145,
   "metadata": {},
   "outputs": [],
   "source": [
    "df_next['lead_all_time'] = np.where(df_menginap['lead_time'] > 450, 451, df_next['lead_time'])\n",
    "bins = list(np.arange(0,max(df_next['lead_all_time'])+30, 30))\n",
    "labels = [\"{0}-{1}\".format(str(bins[x]), str(bins[x+1])) for x in range(len(bins[:-1]))]\n",
    "df_next['lead_time_category'] = pd.cut(df_next['lead_all_time'],bins=bins, include_lowest=True, labels=labels)"
   ]
  },
  {
   "cell_type": "code",
   "execution_count": 146,
   "id": "85db7c98",
   "metadata": {},
   "outputs": [
    {
     "data": {
      "text/html": [
       "<div>\n",
       "<style scoped>\n",
       "    .dataframe tbody tr th:only-of-type {\n",
       "        vertical-align: middle;\n",
       "    }\n",
       "\n",
       "    .dataframe tbody tr th {\n",
       "        vertical-align: top;\n",
       "    }\n",
       "\n",
       "    .dataframe thead th {\n",
       "        text-align: right;\n",
       "    }\n",
       "</style>\n",
       "<table border=\"1\" class=\"dataframe\">\n",
       "  <thead>\n",
       "    <tr style=\"text-align: right;\">\n",
       "      <th></th>\n",
       "      <th>hotel_type</th>\n",
       "      <th>lead_time_category</th>\n",
       "      <th>no_canceled</th>\n",
       "      <th>are_canceled</th>\n",
       "      <th>bookings</th>\n",
       "      <th>count_canceled</th>\n",
       "    </tr>\n",
       "  </thead>\n",
       "  <tbody>\n",
       "    <tr>\n",
       "      <th>0</th>\n",
       "      <td>City Hotel</td>\n",
       "      <td>0-30</td>\n",
       "      <td>18060</td>\n",
       "      <td>5184</td>\n",
       "      <td>23244</td>\n",
       "      <td>22.302530</td>\n",
       "    </tr>\n",
       "    <tr>\n",
       "      <th>1</th>\n",
       "      <td>City Hotel</td>\n",
       "      <td>30-60</td>\n",
       "      <td>7266</td>\n",
       "      <td>4608</td>\n",
       "      <td>11874</td>\n",
       "      <td>38.807479</td>\n",
       "    </tr>\n",
       "    <tr>\n",
       "      <th>2</th>\n",
       "      <td>City Hotel</td>\n",
       "      <td>60-90</td>\n",
       "      <td>5210</td>\n",
       "      <td>3692</td>\n",
       "      <td>8902</td>\n",
       "      <td>41.473826</td>\n",
       "    </tr>\n",
       "    <tr>\n",
       "      <th>3</th>\n",
       "      <td>City Hotel</td>\n",
       "      <td>90-120</td>\n",
       "      <td>3956</td>\n",
       "      <td>3486</td>\n",
       "      <td>7442</td>\n",
       "      <td>46.842247</td>\n",
       "    </tr>\n",
       "    <tr>\n",
       "      <th>4</th>\n",
       "      <td>City Hotel</td>\n",
       "      <td>120-150</td>\n",
       "      <td>3064</td>\n",
       "      <td>2542</td>\n",
       "      <td>5606</td>\n",
       "      <td>45.344274</td>\n",
       "    </tr>\n",
       "  </tbody>\n",
       "</table>\n",
       "</div>"
      ],
      "text/plain": [
       "   hotel_type lead_time_category  no_canceled  are_canceled  bookings  \\\n",
       "0  City Hotel               0-30        18060          5184     23244   \n",
       "1  City Hotel              30-60         7266          4608     11874   \n",
       "2  City Hotel              60-90         5210          3692      8902   \n",
       "3  City Hotel             90-120         3956          3486      7442   \n",
       "4  City Hotel            120-150         3064          2542      5606   \n",
       "\n",
       "   count_canceled  \n",
       "0       22.302530  \n",
       "1       38.807479  \n",
       "2       41.473826  \n",
       "3       46.842247  \n",
       "4       45.344274  "
      ]
     },
     "execution_count": 146,
     "metadata": {},
     "output_type": "execute_result"
    }
   ],
   "source": [
    "df3_next = df_next.groupby(['hotel', 'lead_time_category', 'is_canceled'])['arrival_date_month'].count().reset_index(name='count_booking')\n",
    "df3_agg = df3_next.pivot_table(index=['hotel', 'lead_time_category'], columns='is_canceled', values='count_booking').reset_index()\n",
    "df3_agg.columns = ['hotel_type', 'lead_time_category', 'no_canceled', 'are_canceled']\n",
    "df3_agg['bookings'] = df3_agg['no_canceled']+df3_agg['are_canceled']\n",
    "df3_agg['count_canceled'] = df3_agg['are_canceled']*100.0/(df3_agg['bookings'])\n",
    "\n",
    "df3_agg.head()"
   ]
  },
  {
   "cell_type": "code",
   "execution_count": 147,
   "id": "2e3a702a",
   "metadata": {},
   "outputs": [
    {
     "data": {
      "image/png": "[encoded data removed]",
      "text/plain": [
       "<Figure size 1080x720 with 1 Axes>"
      ]
     },
     "metadata": {
      "needs_background": "light"
     },
     "output_type": "display_data"
    }
   ],
   "source": [
    "plt.figure(figsize=(15,10)) \n",
    "sns.barplot(x='lead_time_category', y='count_canceled', hue='hotel_type', data=df3_agg) \n",
    "\n",
    "plt.tick_params(axis='both', which='major', labelsize=12) \n",
    "plt.grid() \n",
    "plt.legend(title='Hotel Type', title_fontsize=14, prop={'size':12}, loc=9) \n",
    "\n",
    "plt.xlabel('Lead Time Groups (by 30 days)', fontsize=14) \n",
    "plt.ylabel('Percentage of Booking Canceled (%)', fontsize=14)  \n",
    "plt.ylim(0, 100) \n",
    "plt.xlim(-0.5,13.5) \n",
    "\n",
    "plt.axvline(0.5, ls='--', color='red') \n",
    "plt.text(x=-0.2, y=60, s='Around 1 Month', fontsize=18, color='red', rotation=90) \n",
    "plt.stackplot(np.arange(-0.5,1.5,1), [[100]], color='indianred', alpha=0.3) \n",
    "\n",
    "plt.axvline(8.5, ls='--', color='red') \n",
    "plt.text(x=10, y=90, s='Around 1 Year', fontsize=18, color='red') \n",
    "plt.stackplot(np.arange(8.5,14.5,1), [[100]], color='indianred', alpha=0.3) \n",
    "\n",
    "plt.text(x=-0.5, y=108, s=\"Impact of Leads Time to Cancelation Ratio\", \n",
    "         fontsize=20, fontweight='bold') \n",
    " \n",
    "plt.tight_layout() "
   ]
  },
  {
   "attachments": {},
   "cell_type": "markdown",
   "id": "f3756981",
   "metadata": {},
   "source": [
    "Canceled rate terendah terjadi pada 0-30 hari dari waktu customer memesan hotel. Canceled rate dengan waktu booking yang lama, sekitar 270-420 hari memiliki canceled rate sekitar 40% untuk Resort Hotel dan sekitar 60% untuk City Hotel."
   ]
  },
  {
   "cell_type": "markdown",
   "id": "4666938e",
   "metadata": {},
   "source": []
  }
 ],
 "metadata": {
  "kernelspec": {
   "display_name": "base",
   "language": "python",
   "name": "python3"
  },
  "language_info": {
   "codemirror_mode": {
    "name": "ipython",
    "version": 3
   },
   "file_extension": ".py",
   "mimetype": "text/x-python",
   "name": "python",
   "nbconvert_exporter": "python",
   "pygments_lexer": "ipython3",
   "version": "3.9.12"
  },
  "vscode": {
   "interpreter": {
    "hash": "a90aeebcf29d64a654773811cc170cb25061cb2498f10ac689db374c7bf325de"
   }
  }
 },
 "nbformat": 4,
 "nbformat_minor": 5
}
